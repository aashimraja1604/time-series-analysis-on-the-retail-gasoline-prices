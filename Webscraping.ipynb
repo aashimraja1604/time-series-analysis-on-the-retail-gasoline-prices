{
 "cells": [
  {
   "cell_type": "markdown",
   "id": "e4a3e4f0",
   "metadata": {},
   "source": [
    "### All necessary libraries  "
   ]
  },
  {
   "cell_type": "code",
   "execution_count": 2,
   "id": "66b021b1",
   "metadata": {},
   "outputs": [],
   "source": [
    "import pandas as pd\n",
    "import numpy as np\n",
    "import matplotlib.pyplot as plt\n",
    "from tensorflow.keras.models import Sequential\n",
    "from tensorflow.keras.layers import Dense\n",
    "from tensorflow.keras.layers import LSTM\n",
    "import math"
   ]
  },
  {
   "cell_type": "markdown",
   "id": "f0eae6c6",
   "metadata": {},
   "source": [
    "- My project is that time series analysis of crude price change over period of time and predictions about the future using the past data.\n",
    "- I am using the Long Short-Term Memory (LSTM) models by using this models I can using LSTM deep learning of long periods data and making them ideal.\n",
    "- In this project I do 3 section Getting the data from the source Filtering the data and plotting them Prediction \n",
    "\n",
    "## Scraping Data\n",
    "- I use the website for collecting data `‘https://www.eia.gov/’` .\n",
    "- I scrape the data from this website but using API key for getting the key I going on the EIA Data Sets > Petroleum > Prices > Spot Prices\n",
    "- And the link of API is `http://api.eia.gov/series/?api_key=YOUR_API_KEY_HERE&series_id=PET.RBRTE.D`\n"
   ]
  },
  {
   "cell_type": "code",
   "execution_count": 3,
   "id": "1db085df",
   "metadata": {},
   "outputs": [],
   "source": [
    "#Getting data of crude price\n",
    "df = pd.read_html('https://www.eia.gov/opendata/v1/qb.php?category=241335&sdid=PET.RBRTE.D')"
   ]
  },
  {
   "cell_type": "code",
   "execution_count": 4,
   "id": "1350e2cc",
   "metadata": {},
   "outputs": [
    {
     "data": {
      "text/plain": [
       "[                             Series Name    Period Frequency  Value  \\\n",
       " 0     Europe Brent Spot Price FOB, Daily  20230110         D  78.40   \n",
       " 1     Europe Brent Spot Price FOB, Daily  20230109         D  77.50   \n",
       " 2     Europe Brent Spot Price FOB, Daily  20230106         D  76.41   \n",
       " 3     Europe Brent Spot Price FOB, Daily  20230105         D  76.73   \n",
       " 4     Europe Brent Spot Price FOB, Daily  20230104         D  75.31   \n",
       " ...                                  ...       ...       ...    ...   \n",
       " 9056  Europe Brent Spot Price FOB, Daily  19870526         D  18.63   \n",
       " 9057  Europe Brent Spot Price FOB, Daily  19870525         D  18.60   \n",
       " 9058  Europe Brent Spot Price FOB, Daily  19870522         D  18.55   \n",
       " 9059  Europe Brent Spot Price FOB, Daily  19870521         D  18.45   \n",
       " 9060  Europe Brent Spot Price FOB, Daily  19870520         D  18.63   \n",
       " \n",
       "                    Units  \n",
       " 0     Dollars per Barrel  \n",
       " 1     Dollars per Barrel  \n",
       " 2     Dollars per Barrel  \n",
       " 3     Dollars per Barrel  \n",
       " 4     Dollars per Barrel  \n",
       " ...                  ...  \n",
       " 9056  Dollars per Barrel  \n",
       " 9057  Dollars per Barrel  \n",
       " 9058  Dollars per Barrel  \n",
       " 9059  Dollars per Barrel  \n",
       " 9060  Dollars per Barrel  \n",
       " \n",
       " [9061 rows x 5 columns]]"
      ]
     },
     "execution_count": 4,
     "metadata": {},
     "output_type": "execute_result"
    }
   ],
   "source": [
    "df"
   ]
  },
  {
   "cell_type": "code",
   "execution_count": 5,
   "id": "5a269bb4",
   "metadata": {},
   "outputs": [
    {
     "data": {
      "text/plain": [
       "1"
      ]
     },
     "execution_count": 5,
     "metadata": {},
     "output_type": "execute_result"
    }
   ],
   "source": [
    "len(df) #Here df is list"
   ]
  },
  {
   "cell_type": "code",
   "execution_count": 6,
   "id": "be73ef76",
   "metadata": {},
   "outputs": [],
   "source": [
    "df = df[0] #Getting dataframe out of the list"
   ]
  },
  {
   "cell_type": "code",
   "execution_count": 7,
   "id": "5c1e535b",
   "metadata": {},
   "outputs": [
    {
     "data": {
      "text/html": [
       "<div>\n",
       "<style scoped>\n",
       "    .dataframe tbody tr th:only-of-type {\n",
       "        vertical-align: middle;\n",
       "    }\n",
       "\n",
       "    .dataframe tbody tr th {\n",
       "        vertical-align: top;\n",
       "    }\n",
       "\n",
       "    .dataframe thead th {\n",
       "        text-align: right;\n",
       "    }\n",
       "</style>\n",
       "<table border=\"1\" class=\"dataframe\">\n",
       "  <thead>\n",
       "    <tr style=\"text-align: right;\">\n",
       "      <th></th>\n",
       "      <th>Series Name</th>\n",
       "      <th>Period</th>\n",
       "      <th>Frequency</th>\n",
       "      <th>Value</th>\n",
       "      <th>Units</th>\n",
       "    </tr>\n",
       "  </thead>\n",
       "  <tbody>\n",
       "    <tr>\n",
       "      <th>0</th>\n",
       "      <td>Europe Brent Spot Price FOB, Daily</td>\n",
       "      <td>20230110</td>\n",
       "      <td>D</td>\n",
       "      <td>78.40</td>\n",
       "      <td>Dollars per Barrel</td>\n",
       "    </tr>\n",
       "    <tr>\n",
       "      <th>1</th>\n",
       "      <td>Europe Brent Spot Price FOB, Daily</td>\n",
       "      <td>20230109</td>\n",
       "      <td>D</td>\n",
       "      <td>77.50</td>\n",
       "      <td>Dollars per Barrel</td>\n",
       "    </tr>\n",
       "    <tr>\n",
       "      <th>2</th>\n",
       "      <td>Europe Brent Spot Price FOB, Daily</td>\n",
       "      <td>20230106</td>\n",
       "      <td>D</td>\n",
       "      <td>76.41</td>\n",
       "      <td>Dollars per Barrel</td>\n",
       "    </tr>\n",
       "    <tr>\n",
       "      <th>3</th>\n",
       "      <td>Europe Brent Spot Price FOB, Daily</td>\n",
       "      <td>20230105</td>\n",
       "      <td>D</td>\n",
       "      <td>76.73</td>\n",
       "      <td>Dollars per Barrel</td>\n",
       "    </tr>\n",
       "    <tr>\n",
       "      <th>4</th>\n",
       "      <td>Europe Brent Spot Price FOB, Daily</td>\n",
       "      <td>20230104</td>\n",
       "      <td>D</td>\n",
       "      <td>75.31</td>\n",
       "      <td>Dollars per Barrel</td>\n",
       "    </tr>\n",
       "    <tr>\n",
       "      <th>...</th>\n",
       "      <td>...</td>\n",
       "      <td>...</td>\n",
       "      <td>...</td>\n",
       "      <td>...</td>\n",
       "      <td>...</td>\n",
       "    </tr>\n",
       "    <tr>\n",
       "      <th>9056</th>\n",
       "      <td>Europe Brent Spot Price FOB, Daily</td>\n",
       "      <td>19870526</td>\n",
       "      <td>D</td>\n",
       "      <td>18.63</td>\n",
       "      <td>Dollars per Barrel</td>\n",
       "    </tr>\n",
       "    <tr>\n",
       "      <th>9057</th>\n",
       "      <td>Europe Brent Spot Price FOB, Daily</td>\n",
       "      <td>19870525</td>\n",
       "      <td>D</td>\n",
       "      <td>18.60</td>\n",
       "      <td>Dollars per Barrel</td>\n",
       "    </tr>\n",
       "    <tr>\n",
       "      <th>9058</th>\n",
       "      <td>Europe Brent Spot Price FOB, Daily</td>\n",
       "      <td>19870522</td>\n",
       "      <td>D</td>\n",
       "      <td>18.55</td>\n",
       "      <td>Dollars per Barrel</td>\n",
       "    </tr>\n",
       "    <tr>\n",
       "      <th>9059</th>\n",
       "      <td>Europe Brent Spot Price FOB, Daily</td>\n",
       "      <td>19870521</td>\n",
       "      <td>D</td>\n",
       "      <td>18.45</td>\n",
       "      <td>Dollars per Barrel</td>\n",
       "    </tr>\n",
       "    <tr>\n",
       "      <th>9060</th>\n",
       "      <td>Europe Brent Spot Price FOB, Daily</td>\n",
       "      <td>19870520</td>\n",
       "      <td>D</td>\n",
       "      <td>18.63</td>\n",
       "      <td>Dollars per Barrel</td>\n",
       "    </tr>\n",
       "  </tbody>\n",
       "</table>\n",
       "<p>9061 rows × 5 columns</p>\n",
       "</div>"
      ],
      "text/plain": [
       "                             Series Name    Period Frequency  Value  \\\n",
       "0     Europe Brent Spot Price FOB, Daily  20230110         D  78.40   \n",
       "1     Europe Brent Spot Price FOB, Daily  20230109         D  77.50   \n",
       "2     Europe Brent Spot Price FOB, Daily  20230106         D  76.41   \n",
       "3     Europe Brent Spot Price FOB, Daily  20230105         D  76.73   \n",
       "4     Europe Brent Spot Price FOB, Daily  20230104         D  75.31   \n",
       "...                                  ...       ...       ...    ...   \n",
       "9056  Europe Brent Spot Price FOB, Daily  19870526         D  18.63   \n",
       "9057  Europe Brent Spot Price FOB, Daily  19870525         D  18.60   \n",
       "9058  Europe Brent Spot Price FOB, Daily  19870522         D  18.55   \n",
       "9059  Europe Brent Spot Price FOB, Daily  19870521         D  18.45   \n",
       "9060  Europe Brent Spot Price FOB, Daily  19870520         D  18.63   \n",
       "\n",
       "                   Units  \n",
       "0     Dollars per Barrel  \n",
       "1     Dollars per Barrel  \n",
       "2     Dollars per Barrel  \n",
       "3     Dollars per Barrel  \n",
       "4     Dollars per Barrel  \n",
       "...                  ...  \n",
       "9056  Dollars per Barrel  \n",
       "9057  Dollars per Barrel  \n",
       "9058  Dollars per Barrel  \n",
       "9059  Dollars per Barrel  \n",
       "9060  Dollars per Barrel  \n",
       "\n",
       "[9061 rows x 5 columns]"
      ]
     },
     "execution_count": 7,
     "metadata": {},
     "output_type": "execute_result"
    }
   ],
   "source": [
    "df"
   ]
  },
  {
   "cell_type": "markdown",
   "id": "4577b7e0",
   "metadata": {},
   "source": [
    "## Filtering Data\n",
    "- For forecasting I needed only 2 data column first is Date and second is price for that first I have to remove all the columns so I filter and than I have only 2 column 1st Period and 2nd Value.\n"
   ]
  },
  {
   "cell_type": "code",
   "execution_count": 8,
   "id": "1827fad3",
   "metadata": {},
   "outputs": [],
   "source": [
    "#Just taking the time and crude price\n",
    "df = df [['Period','Value']]"
   ]
  },
  {
   "cell_type": "code",
   "execution_count": 9,
   "id": "ba1d6b31",
   "metadata": {},
   "outputs": [
    {
     "data": {
      "text/html": [
       "<div>\n",
       "<style scoped>\n",
       "    .dataframe tbody tr th:only-of-type {\n",
       "        vertical-align: middle;\n",
       "    }\n",
       "\n",
       "    .dataframe tbody tr th {\n",
       "        vertical-align: top;\n",
       "    }\n",
       "\n",
       "    .dataframe thead th {\n",
       "        text-align: right;\n",
       "    }\n",
       "</style>\n",
       "<table border=\"1\" class=\"dataframe\">\n",
       "  <thead>\n",
       "    <tr style=\"text-align: right;\">\n",
       "      <th></th>\n",
       "      <th>Period</th>\n",
       "      <th>Value</th>\n",
       "    </tr>\n",
       "  </thead>\n",
       "  <tbody>\n",
       "    <tr>\n",
       "      <th>0</th>\n",
       "      <td>20230110</td>\n",
       "      <td>78.40</td>\n",
       "    </tr>\n",
       "    <tr>\n",
       "      <th>1</th>\n",
       "      <td>20230109</td>\n",
       "      <td>77.50</td>\n",
       "    </tr>\n",
       "    <tr>\n",
       "      <th>2</th>\n",
       "      <td>20230106</td>\n",
       "      <td>76.41</td>\n",
       "    </tr>\n",
       "    <tr>\n",
       "      <th>3</th>\n",
       "      <td>20230105</td>\n",
       "      <td>76.73</td>\n",
       "    </tr>\n",
       "    <tr>\n",
       "      <th>4</th>\n",
       "      <td>20230104</td>\n",
       "      <td>75.31</td>\n",
       "    </tr>\n",
       "    <tr>\n",
       "      <th>...</th>\n",
       "      <td>...</td>\n",
       "      <td>...</td>\n",
       "    </tr>\n",
       "    <tr>\n",
       "      <th>9056</th>\n",
       "      <td>19870526</td>\n",
       "      <td>18.63</td>\n",
       "    </tr>\n",
       "    <tr>\n",
       "      <th>9057</th>\n",
       "      <td>19870525</td>\n",
       "      <td>18.60</td>\n",
       "    </tr>\n",
       "    <tr>\n",
       "      <th>9058</th>\n",
       "      <td>19870522</td>\n",
       "      <td>18.55</td>\n",
       "    </tr>\n",
       "    <tr>\n",
       "      <th>9059</th>\n",
       "      <td>19870521</td>\n",
       "      <td>18.45</td>\n",
       "    </tr>\n",
       "    <tr>\n",
       "      <th>9060</th>\n",
       "      <td>19870520</td>\n",
       "      <td>18.63</td>\n",
       "    </tr>\n",
       "  </tbody>\n",
       "</table>\n",
       "<p>9061 rows × 2 columns</p>\n",
       "</div>"
      ],
      "text/plain": [
       "        Period  Value\n",
       "0     20230110  78.40\n",
       "1     20230109  77.50\n",
       "2     20230106  76.41\n",
       "3     20230105  76.73\n",
       "4     20230104  75.31\n",
       "...        ...    ...\n",
       "9056  19870526  18.63\n",
       "9057  19870525  18.60\n",
       "9058  19870522  18.55\n",
       "9059  19870521  18.45\n",
       "9060  19870520  18.63\n",
       "\n",
       "[9061 rows x 2 columns]"
      ]
     },
     "execution_count": 9,
     "metadata": {},
     "output_type": "execute_result"
    }
   ],
   "source": [
    "df"
   ]
  },
  {
   "cell_type": "markdown",
   "id": "6cc1b9e3",
   "metadata": {},
   "source": [
    "- In period column the date is in number Show I have to convert the this number into the Date time format\n",
    "- For converting them I using the Pandas Data frame `to_datetime` and the format is `%Y%M%D`."
   ]
  },
  {
   "cell_type": "code",
   "execution_count": 10,
   "id": "42c4bd47",
   "metadata": {},
   "outputs": [
    {
     "name": "stderr",
     "output_type": "stream",
     "text": [
      "C:\\Users\\Anshari\\AppData\\Local\\Temp\\ipykernel_17772\\1557314446.py:2: SettingWithCopyWarning: \n",
      "A value is trying to be set on a copy of a slice from a DataFrame.\n",
      "Try using .loc[row_indexer,col_indexer] = value instead\n",
      "\n",
      "See the caveats in the documentation: https://pandas.pydata.org/pandas-docs/stable/user_guide/indexing.html#returning-a-view-versus-a-copy\n",
      "  df['Date'] = pd.to_datetime(df['Period'],format='%Y%m%d')\n"
     ]
    }
   ],
   "source": [
    "#Converting the period into datetime\n",
    "df['Date'] = pd.to_datetime(df['Period'],format='%Y%m%d')"
   ]
  },
  {
   "cell_type": "code",
   "execution_count": 11,
   "id": "9b341e40",
   "metadata": {},
   "outputs": [
    {
     "data": {
      "text/html": [
       "<div>\n",
       "<style scoped>\n",
       "    .dataframe tbody tr th:only-of-type {\n",
       "        vertical-align: middle;\n",
       "    }\n",
       "\n",
       "    .dataframe tbody tr th {\n",
       "        vertical-align: top;\n",
       "    }\n",
       "\n",
       "    .dataframe thead th {\n",
       "        text-align: right;\n",
       "    }\n",
       "</style>\n",
       "<table border=\"1\" class=\"dataframe\">\n",
       "  <thead>\n",
       "    <tr style=\"text-align: right;\">\n",
       "      <th></th>\n",
       "      <th>Period</th>\n",
       "      <th>Value</th>\n",
       "      <th>Date</th>\n",
       "    </tr>\n",
       "  </thead>\n",
       "  <tbody>\n",
       "    <tr>\n",
       "      <th>0</th>\n",
       "      <td>20230110</td>\n",
       "      <td>78.40</td>\n",
       "      <td>2023-01-10</td>\n",
       "    </tr>\n",
       "    <tr>\n",
       "      <th>1</th>\n",
       "      <td>20230109</td>\n",
       "      <td>77.50</td>\n",
       "      <td>2023-01-09</td>\n",
       "    </tr>\n",
       "    <tr>\n",
       "      <th>2</th>\n",
       "      <td>20230106</td>\n",
       "      <td>76.41</td>\n",
       "      <td>2023-01-06</td>\n",
       "    </tr>\n",
       "    <tr>\n",
       "      <th>3</th>\n",
       "      <td>20230105</td>\n",
       "      <td>76.73</td>\n",
       "      <td>2023-01-05</td>\n",
       "    </tr>\n",
       "    <tr>\n",
       "      <th>4</th>\n",
       "      <td>20230104</td>\n",
       "      <td>75.31</td>\n",
       "      <td>2023-01-04</td>\n",
       "    </tr>\n",
       "    <tr>\n",
       "      <th>...</th>\n",
       "      <td>...</td>\n",
       "      <td>...</td>\n",
       "      <td>...</td>\n",
       "    </tr>\n",
       "    <tr>\n",
       "      <th>9056</th>\n",
       "      <td>19870526</td>\n",
       "      <td>18.63</td>\n",
       "      <td>1987-05-26</td>\n",
       "    </tr>\n",
       "    <tr>\n",
       "      <th>9057</th>\n",
       "      <td>19870525</td>\n",
       "      <td>18.60</td>\n",
       "      <td>1987-05-25</td>\n",
       "    </tr>\n",
       "    <tr>\n",
       "      <th>9058</th>\n",
       "      <td>19870522</td>\n",
       "      <td>18.55</td>\n",
       "      <td>1987-05-22</td>\n",
       "    </tr>\n",
       "    <tr>\n",
       "      <th>9059</th>\n",
       "      <td>19870521</td>\n",
       "      <td>18.45</td>\n",
       "      <td>1987-05-21</td>\n",
       "    </tr>\n",
       "    <tr>\n",
       "      <th>9060</th>\n",
       "      <td>19870520</td>\n",
       "      <td>18.63</td>\n",
       "      <td>1987-05-20</td>\n",
       "    </tr>\n",
       "  </tbody>\n",
       "</table>\n",
       "<p>9061 rows × 3 columns</p>\n",
       "</div>"
      ],
      "text/plain": [
       "        Period  Value       Date\n",
       "0     20230110  78.40 2023-01-10\n",
       "1     20230109  77.50 2023-01-09\n",
       "2     20230106  76.41 2023-01-06\n",
       "3     20230105  76.73 2023-01-05\n",
       "4     20230104  75.31 2023-01-04\n",
       "...        ...    ...        ...\n",
       "9056  19870526  18.63 1987-05-26\n",
       "9057  19870525  18.60 1987-05-25\n",
       "9058  19870522  18.55 1987-05-22\n",
       "9059  19870521  18.45 1987-05-21\n",
       "9060  19870520  18.63 1987-05-20\n",
       "\n",
       "[9061 rows x 3 columns]"
      ]
     },
     "execution_count": 11,
     "metadata": {},
     "output_type": "execute_result"
    }
   ],
   "source": [
    "df"
   ]
  },
  {
   "cell_type": "markdown",
   "id": "556169e9",
   "metadata": {},
   "source": [
    "- Now I have the 3 column but I need only 2 So, I have to drop the `Period` Column \n",
    "- Now I have to set the Date column index value to `Date`\n",
    "- Than reversing the date `1987-05-20` to `2023-01-10`."
   ]
  },
  {
   "cell_type": "code",
   "execution_count": 12,
   "id": "a06910ef",
   "metadata": {},
   "outputs": [],
   "source": [
    "df = df.drop('Period',axis =1)"
   ]
  },
  {
   "cell_type": "code",
   "execution_count": 13,
   "id": "09e79e24",
   "metadata": {},
   "outputs": [],
   "source": [
    "df = df.set_index('Date')"
   ]
  },
  {
   "cell_type": "code",
   "execution_count": 14,
   "id": "36ef14b9",
   "metadata": {},
   "outputs": [],
   "source": [
    "#Reversing the date\n",
    "df = df[-1::-1]"
   ]
  },
  {
   "cell_type": "code",
   "execution_count": 15,
   "id": "0370db7e",
   "metadata": {},
   "outputs": [
    {
     "data": {
      "text/html": [
       "<div>\n",
       "<style scoped>\n",
       "    .dataframe tbody tr th:only-of-type {\n",
       "        vertical-align: middle;\n",
       "    }\n",
       "\n",
       "    .dataframe tbody tr th {\n",
       "        vertical-align: top;\n",
       "    }\n",
       "\n",
       "    .dataframe thead th {\n",
       "        text-align: right;\n",
       "    }\n",
       "</style>\n",
       "<table border=\"1\" class=\"dataframe\">\n",
       "  <thead>\n",
       "    <tr style=\"text-align: right;\">\n",
       "      <th></th>\n",
       "      <th>Value</th>\n",
       "    </tr>\n",
       "    <tr>\n",
       "      <th>Date</th>\n",
       "      <th></th>\n",
       "    </tr>\n",
       "  </thead>\n",
       "  <tbody>\n",
       "    <tr>\n",
       "      <th>1987-05-20</th>\n",
       "      <td>18.63</td>\n",
       "    </tr>\n",
       "    <tr>\n",
       "      <th>1987-05-21</th>\n",
       "      <td>18.45</td>\n",
       "    </tr>\n",
       "    <tr>\n",
       "      <th>1987-05-22</th>\n",
       "      <td>18.55</td>\n",
       "    </tr>\n",
       "    <tr>\n",
       "      <th>1987-05-25</th>\n",
       "      <td>18.60</td>\n",
       "    </tr>\n",
       "    <tr>\n",
       "      <th>1987-05-26</th>\n",
       "      <td>18.63</td>\n",
       "    </tr>\n",
       "    <tr>\n",
       "      <th>...</th>\n",
       "      <td>...</td>\n",
       "    </tr>\n",
       "    <tr>\n",
       "      <th>2023-01-04</th>\n",
       "      <td>75.31</td>\n",
       "    </tr>\n",
       "    <tr>\n",
       "      <th>2023-01-05</th>\n",
       "      <td>76.73</td>\n",
       "    </tr>\n",
       "    <tr>\n",
       "      <th>2023-01-06</th>\n",
       "      <td>76.41</td>\n",
       "    </tr>\n",
       "    <tr>\n",
       "      <th>2023-01-09</th>\n",
       "      <td>77.50</td>\n",
       "    </tr>\n",
       "    <tr>\n",
       "      <th>2023-01-10</th>\n",
       "      <td>78.40</td>\n",
       "    </tr>\n",
       "  </tbody>\n",
       "</table>\n",
       "<p>9061 rows × 1 columns</p>\n",
       "</div>"
      ],
      "text/plain": [
       "            Value\n",
       "Date             \n",
       "1987-05-20  18.63\n",
       "1987-05-21  18.45\n",
       "1987-05-22  18.55\n",
       "1987-05-25  18.60\n",
       "1987-05-26  18.63\n",
       "...           ...\n",
       "2023-01-04  75.31\n",
       "2023-01-05  76.73\n",
       "2023-01-06  76.41\n",
       "2023-01-09  77.50\n",
       "2023-01-10  78.40\n",
       "\n",
       "[9061 rows x 1 columns]"
      ]
     },
     "execution_count": 15,
     "metadata": {},
     "output_type": "execute_result"
    }
   ],
   "source": [
    "df"
   ]
  },
  {
   "cell_type": "markdown",
   "id": "ec88b093",
   "metadata": {},
   "source": [
    "- Here we looking the crude oil price is changing from past 30 years "
   ]
  },
  {
   "cell_type": "code",
   "execution_count": 16,
   "id": "4227feed",
   "metadata": {},
   "outputs": [
    {
     "data": {
      "text/plain": [
       "<AxesSubplot: xlabel='Date'>"
      ]
     },
     "execution_count": 16,
     "metadata": {},
     "output_type": "execute_result"
    },
    {
     "data": {
      "image/png": "[encoded data removed]",
      "text/plain": [
       "<Figure size 1500x700 with 1 Axes>"
      ]
     },
     "metadata": {},
     "output_type": "display_data"
    }
   ],
   "source": [
    "df.plot(figsize = (15,7))"
   ]
  },
  {
   "cell_type": "markdown",
   "id": "0b44e3c6",
   "metadata": {},
   "source": [
    "## Getting values of crude price\n",
    "- In these section we target the value index for getting the `Length` and `DataType`\n",
    "- After that we using StandardScaler Libraries for setting the range\n",
    "- Here I extracting the data values and and storing it into `DF1`."
   ]
  },
  {
   "cell_type": "code",
   "execution_count": 17,
   "id": "23e454aa",
   "metadata": {},
   "outputs": [],
   "source": [
    "#Getting values of crude Price\n",
    "df1 = df.reset_index()['Value']"
   ]
  },
  {
   "cell_type": "code",
   "execution_count": 18,
   "id": "33a88972",
   "metadata": {},
   "outputs": [
    {
     "data": {
      "text/plain": [
       "0       18.63\n",
       "1       18.45\n",
       "2       18.55\n",
       "3       18.60\n",
       "4       18.63\n",
       "        ...  \n",
       "9056    75.31\n",
       "9057    76.73\n",
       "9058    76.41\n",
       "9059    77.50\n",
       "9060    78.40\n",
       "Name: Value, Length: 9061, dtype: float64"
      ]
     },
     "execution_count": 18,
     "metadata": {},
     "output_type": "execute_result"
    }
   ],
   "source": [
    "df1"
   ]
  },
  {
   "cell_type": "markdown",
   "id": "a8559a9c",
   "metadata": {},
   "source": [
    "- Here I scaling the data\n",
    "- Here I scaling complete data not just seprating , training or testing the data\n",
    "- I am using standard scaler at this point "
   ]
  },
  {
   "cell_type": "code",
   "execution_count": 19,
   "id": "02169539",
   "metadata": {},
   "outputs": [],
   "source": [
    "#Scaling the data and for scaling I using the standardScaler \n",
    "from sklearn.preprocessing import StandardScaler\n",
    "scaler = StandardScaler()\n",
    "df1 = scaler.fit_transform(np.array(df1).reshape(-1,1))"
   ]
  },
  {
   "cell_type": "code",
   "execution_count": 20,
   "id": "e1a64afc",
   "metadata": {},
   "outputs": [
    {
     "data": {
      "text/plain": [
       "(9061, 1)"
      ]
     },
     "execution_count": 20,
     "metadata": {},
     "output_type": "execute_result"
    }
   ],
   "source": [
    "df1.shape"
   ]
  },
  {
   "cell_type": "code",
   "execution_count": 21,
   "id": "d8cf77a5",
   "metadata": {},
   "outputs": [
    {
     "data": {
      "text/plain": [
       "array([[-0.91134164],\n",
       "       [-0.91681863],\n",
       "       [-0.91377586],\n",
       "       ...,\n",
       "       [ 0.8467726 ],\n",
       "       [ 0.87993882],\n",
       "       [ 0.90732378]])"
      ]
     },
     "execution_count": 21,
     "metadata": {},
     "output_type": "execute_result"
    }
   ],
   "source": [
    "df1"
   ]
  },
  {
   "cell_type": "markdown",
   "id": "722d97ea",
   "metadata": {},
   "source": [
    "### Now you can see it has been scaled by using StandardScaler itself and normalize the data"
   ]
  },
  {
   "cell_type": "code",
   "execution_count": 22,
   "id": "848aa9f7",
   "metadata": {},
   "outputs": [
    {
     "data": {
      "text/plain": [
       "[<matplotlib.lines.Line2D at 0x18917f5b520>]"
      ]
     },
     "execution_count": 22,
     "metadata": {},
     "output_type": "execute_result"
    },
    {
     "data": {
      "image/png": "[encoded data removed]",
      "text/plain": [
       "<Figure size 1500x700 with 1 Axes>"
      ]
     },
     "metadata": {},
     "output_type": "display_data"
    }
   ],
   "source": [
    "plt.figure(figsize=(15,7))\n",
    "plt.plot(df.index,df1)"
   ]
  },
  {
   "cell_type": "markdown",
   "id": "170fbaae",
   "metadata": {},
   "source": [
    "## Deciding the time window \n",
    "- For window I am getting 100 days.\n",
    "- Here my assumption is that 100 past data affecting by 101 day "
   ]
  },
  {
   "cell_type": "code",
   "execution_count": 23,
   "id": "1b1020af",
   "metadata": {},
   "outputs": [
    {
     "name": "stdout",
     "output_type": "stream",
     "text": [
      " Enter Window Size: 100\n"
     ]
    }
   ],
   "source": [
    "w = int(input(' Enter Window Size: '))"
   ]
  },
  {
   "cell_type": "markdown",
   "id": "c0d357c4",
   "metadata": {},
   "source": [
    "### Here I spearting the training data and testing data \n",
    "- I am using around 96% of complete data as the training set and last 4% testing set"
   ]
  },
  {
   "cell_type": "code",
   "execution_count": 24,
   "id": "e40e5173",
   "metadata": {},
   "outputs": [],
   "source": [
    "training_size = int(len(df1)*0.96)\n",
    "test_size = len(df1) - training_size\n",
    "train_data,test_data = df1[0:training_size+w,:],df1[training_size:len(df1),:]"
   ]
  },
  {
   "cell_type": "code",
   "execution_count": 25,
   "id": "3c47c65d",
   "metadata": {},
   "outputs": [
    {
     "data": {
      "text/plain": [
       "((8798, 1), (363, 1))"
      ]
     },
     "execution_count": 25,
     "metadata": {},
     "output_type": "execute_result"
    }
   ],
   "source": [
    "train_data.shape, test_data.shape"
   ]
  },
  {
   "cell_type": "markdown",
   "id": "90728532",
   "metadata": {},
   "source": [
    "### Now you can see my training data and testing data "
   ]
  },
  {
   "cell_type": "code",
   "execution_count": 26,
   "id": "035c04c8",
   "metadata": {},
   "outputs": [
    {
     "data": {
      "text/plain": [
       "[<matplotlib.lines.Line2D at 0x18919b14e50>]"
      ]
     },
     "execution_count": 26,
     "metadata": {},
     "output_type": "execute_result"
    },
    {
     "data": {
      "image/png": "[encoded data removed]",
      "text/plain": [
       "<Figure size 640x480 with 1 Axes>"
      ]
     },
     "metadata": {},
     "output_type": "display_data"
    }
   ],
   "source": [
    "plt.plot(df.index[:training_size+100],train_data)"
   ]
  },
  {
   "cell_type": "markdown",
   "id": "80abc420",
   "metadata": {},
   "source": [
    "## Creating the data set \n",
    "- This function taking the data set as an input and it istaking time step as input BY Default I have set 100 sets.\n",
    "- After that I am making two list \n",
    "        `List X` and `List Y`\n",
    "        "
   ]
  },
  {
   "cell_type": "code",
   "execution_count": 27,
   "id": "2ead0954",
   "metadata": {},
   "outputs": [],
   "source": [
    "def create_dataset(dataset,time_step = 1):\n",
    "    dataX, dataY = [],[]\n",
    "    \n",
    "    for i in range(len(dataset)-time_step):\n",
    "        a = dataset[i:(i+time_step),0] #i=0 then 0,1,2,3,4 will be x and y=4 \n",
    "        \n",
    "        dataX.append(a)\n",
    "        dataY.append(dataset[i+time_step,0])\n",
    "        \n",
    "    return np.array(dataX),np.array(dataY)"
   ]
  },
  {
   "cell_type": "markdown",
   "id": "a7c1b05d",
   "metadata": {},
   "source": [
    "- Now I am using the last function I am creating the data set like\n",
    "`X_train`,`Y_train`,`X_test` and `Y_test`"
   ]
  },
  {
   "cell_type": "code",
   "execution_count": 28,
   "id": "2736a124",
   "metadata": {},
   "outputs": [],
   "source": [
    "time_step = w\n",
    "#Using 100 consecutive values predecting 101th value\n",
    "#f1--------f100 =X\n",
    "#f101 = y\n",
    "X_train, y_train = create_dataset(train_data,time_step)\n",
    "X_test, y_test = create_dataset(test_data,time_step)"
   ]
  },
  {
   "cell_type": "markdown",
   "id": "220a3cee",
   "metadata": {},
   "source": [
    "- Here I showing the data shape of my extend and X_train and X_test is `8698` to `100` \n",
    "- On this time of point that is presnt inside two dimensional array by using `.shape`"
   ]
  },
  {
   "cell_type": "code",
   "execution_count": 29,
   "id": "669a7235",
   "metadata": {},
   "outputs": [
    {
     "data": {
      "text/plain": [
       "((8698, 100), (263, 100))"
      ]
     },
     "execution_count": 29,
     "metadata": {},
     "output_type": "execute_result"
    }
   ],
   "source": [
    "#Shape of X_train and X_test \n",
    "X_train.shape,X_test.shape\n",
    "#Now it is 2D array"
   ]
  },
  {
   "cell_type": "markdown",
   "id": "94a80f9b",
   "metadata": {},
   "source": [
    "## Making the data 3D\n",
    "  "
   ]
  },
  {
   "cell_type": "code",
   "execution_count": 30,
   "id": "fa5f8646",
   "metadata": {},
   "outputs": [],
   "source": [
    "#Making the data into 3D\n",
    "X_train = X_train.reshape(X_train.shape[0],X_train.shape[1],1)\n",
    "X_test = X_test.reshape(X_test.shape[0],X_test.shape[1],1)"
   ]
  },
  {
   "cell_type": "code",
   "execution_count": 31,
   "id": "fbcab756",
   "metadata": {},
   "outputs": [
    {
     "data": {
      "text/plain": [
       "((8698, 100, 1), (263, 100, 1))"
      ]
     },
     "execution_count": 31,
     "metadata": {},
     "output_type": "execute_result"
    }
   ],
   "source": [
    "X_train.shape,X_test.shape"
   ]
  },
  {
   "cell_type": "markdown",
   "id": "6c8c1ca8",
   "metadata": {},
   "source": [
    "## This is 3D arrays"
   ]
  },
  {
   "cell_type": "code",
   "execution_count": 32,
   "id": "6e5bb480",
   "metadata": {},
   "outputs": [
    {
     "data": {
      "text/plain": [
       "array([[[-0.91134164],\n",
       "        [-0.91681863],\n",
       "        [-0.91377586],\n",
       "        ...,\n",
       "        [-0.90677748],\n",
       "        [-0.91225447],\n",
       "        [-0.91286303]],\n",
       "\n",
       "       [[-0.91681863],\n",
       "        [-0.91377586],\n",
       "        [-0.91225447],\n",
       "        ...,\n",
       "        [-0.91225447],\n",
       "        [-0.91286303],\n",
       "        [-0.91134164]],\n",
       "\n",
       "       [[-0.91377586],\n",
       "        [-0.91225447],\n",
       "        [-0.91134164],\n",
       "        ...,\n",
       "        [-0.91286303],\n",
       "        [-0.91134164],\n",
       "        [-0.91225447]],\n",
       "\n",
       "       ...,\n",
       "\n",
       "       [[ 0.71684619],\n",
       "        [ 0.68276713],\n",
       "        [ 0.64108114],\n",
       "        ...,\n",
       "        [ 0.73844988],\n",
       "        [ 0.7944369 ],\n",
       "        [ 0.84220844]],\n",
       "\n",
       "       [[ 0.68276713],\n",
       "        [ 0.64108114],\n",
       "        [ 0.68641846],\n",
       "        ...,\n",
       "        [ 0.7944369 ],\n",
       "        [ 0.84220844],\n",
       "        [ 0.81117215]],\n",
       "\n",
       "       [[ 0.64108114],\n",
       "        [ 0.68641846],\n",
       "        [ 0.71228203],\n",
       "        ...,\n",
       "        [ 0.84220844],\n",
       "        [ 0.81117215],\n",
       "        [ 0.81117215]]])"
      ]
     },
     "execution_count": 32,
     "metadata": {},
     "output_type": "execute_result"
    }
   ],
   "source": [
    "X_train"
   ]
  },
  {
   "cell_type": "code",
   "execution_count": 33,
   "id": "32a09a39",
   "metadata": {},
   "outputs": [],
   "source": []
  },
  {
   "cell_type": "markdown",
   "id": "9bd5c91d",
   "metadata": {},
   "source": [
    "#### I made a small model here just used 50-50 neurons becouse I don't have GPU support and if I want to extend it taking lot of time.\n",
    "- Here I just used `LSTM` and final there i'm adding a `dense layer` that will be giving my ouput or that is giving my forcasted value \n",
    "- Than I'm using the mean `squared error` and optimizar to using `adam`"
   ]
  },
  {
   "cell_type": "code",
   "execution_count": 35,
   "id": "92f08a66",
   "metadata": {},
   "outputs": [],
   "source": [
    "model = Sequential() #Sequential model\n",
    "model.add(LSTM(50,return_sequences = True, input_shape=(100,1))) #Input shape of batch\n",
    "model.add(LSTM(50,return_sequences = True))\n",
    "model.add(LSTM(50))\n",
    "model.add(Dense(1))\n",
    "model.compile(loss = 'mean_squared_error', optimizer = 'adam')"
   ]
  },
  {
   "cell_type": "markdown",
   "id": "3633dbb5",
   "metadata": {},
   "source": [
    "### On this point our model is looking like this and this having `50851` parameters "
   ]
  },
  {
   "cell_type": "code",
   "execution_count": 36,
   "id": "a0d87f6e",
   "metadata": {},
   "outputs": [
    {
     "name": "stdout",
     "output_type": "stream",
     "text": [
      "Model: \"sequential\"\n",
      "_________________________________________________________________\n",
      " Layer (type)                Output Shape              Param #   \n",
      "=================================================================\n",
      " lstm (LSTM)                 (None, 100, 50)           10400     \n",
      "                                                                 \n",
      " lstm_1 (LSTM)               (None, 100, 50)           20200     \n",
      "                                                                 \n",
      " lstm_2 (LSTM)               (None, 50)                20200     \n",
      "                                                                 \n",
      " dense (Dense)               (None, 1)                 51        \n",
      "                                                                 \n",
      "=================================================================\n",
      "Total params: 50,851\n",
      "Trainable params: 50,851\n",
      "Non-trainable params: 0\n",
      "_________________________________________________________________\n"
     ]
    }
   ],
   "source": [
    "model.summary()"
   ]
  },
  {
   "cell_type": "markdown",
   "id": "825dc878",
   "metadata": {},
   "source": [
    "### Now I am fitting my model on X train and Y train validation data will be accessed and white test and 10 new book so that it will take less number of times less."
   ]
  },
  {
   "cell_type": "code",
   "execution_count": 96,
   "id": "e2fab2be",
   "metadata": {},
   "outputs": [
    {
     "name": "stdout",
     "output_type": "stream",
     "text": [
      "68/68 [==============================] - 21s 299ms/step - loss: 0.0040 - val_loss: 0.0239\n"
     ]
    },
    {
     "data": {
      "text/plain": [
       "<keras.callbacks.History at 0x18939566f20>"
      ]
     },
     "execution_count": 96,
     "metadata": {},
     "output_type": "execute_result"
    }
   ],
   "source": [
    "model.fit(X_train,y_train,validation_data= (X_test,y_test),epochs= 1,batch_size =128, verbose =1)"
   ]
  },
  {
   "cell_type": "markdown",
   "id": "065c8836",
   "metadata": {},
   "source": [
    "- Now I got a train predictor and trained test predict from  my model "
   ]
  },
  {
   "cell_type": "code",
   "execution_count": 97,
   "id": "ce172ff1",
   "metadata": {},
   "outputs": [
    {
     "name": "stdout",
     "output_type": "stream",
     "text": [
      "272/272 [==============================] - 17s 64ms/step\n",
      "9/9 [==============================] - 1s 68ms/step\n"
     ]
    }
   ],
   "source": [
    "train_predict = model.predict(X_train)\n",
    "test_predict = model.predict(X_test)"
   ]
  },
  {
   "cell_type": "markdown",
   "id": "e76ad4d7",
   "metadata": {},
   "source": [
    "#### Now I have to invest transform that particular by using scalar that we have used for scaling data"
   ]
  },
  {
   "cell_type": "code",
   "execution_count": 98,
   "id": "87837b7e",
   "metadata": {},
   "outputs": [],
   "source": [
    "train_predict = scaler.inverse_transform(train_predict)\n",
    "test_predict = scaler.inverse_transform(test_predict)"
   ]
  },
  {
   "cell_type": "markdown",
   "id": "832ce943",
   "metadata": {},
   "source": [
    "#### Now in this step i'm just calculating the mean square root error that we obviously will come high value becouse we have went to 10 epoch and our `LSTM` model is also small"
   ]
  },
  {
   "cell_type": "code",
   "execution_count": 99,
   "id": "37c1df33",
   "metadata": {},
   "outputs": [
    {
     "data": {
      "text/plain": [
       "56.811042167659096"
      ]
     },
     "execution_count": 99,
     "metadata": {},
     "output_type": "execute_result"
    }
   ],
   "source": [
    "from sklearn.metrics import mean_squared_error\n",
    "math.sqrt(mean_squared_error(y_train,train_predict))"
   ]
  },
  {
   "cell_type": "code",
   "execution_count": 100,
   "id": "2b5af47c",
   "metadata": {},
   "outputs": [
    {
     "data": {
      "text/plain": [
       "99.87284477422597"
      ]
     },
     "execution_count": 100,
     "metadata": {},
     "output_type": "execute_result"
    }
   ],
   "source": [
    "math.sqrt(mean_squared_error(y_test,test_predict))"
   ]
  },
  {
   "cell_type": "code",
   "execution_count": 101,
   "id": "e580904a",
   "metadata": {},
   "outputs": [
    {
     "data": {
      "text/plain": [
       "(8698, 1)"
      ]
     },
     "execution_count": 101,
     "metadata": {},
     "output_type": "execute_result"
    }
   ],
   "source": [
    "train_predict.shape"
   ]
  },
  {
   "cell_type": "code",
   "execution_count": 102,
   "id": "8cb3b351",
   "metadata": {},
   "outputs": [
    {
     "data": {
      "text/plain": [
       "(263, 1)"
      ]
     },
     "execution_count": 102,
     "metadata": {},
     "output_type": "execute_result"
    }
   ],
   "source": [
    "test_predict.shape"
   ]
  },
  {
   "cell_type": "markdown",
   "id": "50249c43",
   "metadata": {},
   "source": [
    "- Now just few step I'm making the data frame for my predicting values and my actual value and it's all are simle python code"
   ]
  },
  {
   "cell_type": "code",
   "execution_count": 103,
   "id": "c123563e",
   "metadata": {},
   "outputs": [],
   "source": [
    "a = train_predict.reshape(train_predict.shape[0],)"
   ]
  },
  {
   "cell_type": "code",
   "execution_count": 104,
   "id": "3164c718",
   "metadata": {},
   "outputs": [],
   "source": [
    "b = test_predict.reshape(test_predict.shape[0],)"
   ]
  },
  {
   "cell_type": "code",
   "execution_count": 105,
   "id": "fecb4ac4",
   "metadata": {},
   "outputs": [],
   "source": [
    "#Here we do total\n",
    "c = list(a)+list(b) "
   ]
  },
  {
   "cell_type": "code",
   "execution_count": 106,
   "id": "a0478c9a",
   "metadata": {},
   "outputs": [
    {
     "data": {
      "text/plain": [
       "8961"
      ]
     },
     "execution_count": 106,
     "metadata": {},
     "output_type": "execute_result"
    }
   ],
   "source": [
    "len(c)"
   ]
  },
  {
   "cell_type": "code",
   "execution_count": 107,
   "id": "55f4ee0d",
   "metadata": {},
   "outputs": [
    {
     "data": {
      "text/html": [
       "<div>\n",
       "<style scoped>\n",
       "    .dataframe tbody tr th:only-of-type {\n",
       "        vertical-align: middle;\n",
       "    }\n",
       "\n",
       "    .dataframe tbody tr th {\n",
       "        vertical-align: top;\n",
       "    }\n",
       "\n",
       "    .dataframe thead th {\n",
       "        text-align: right;\n",
       "    }\n",
       "</style>\n",
       "<table border=\"1\" class=\"dataframe\">\n",
       "  <thead>\n",
       "    <tr style=\"text-align: right;\">\n",
       "      <th></th>\n",
       "      <th>Value</th>\n",
       "      <th>Predicted Price</th>\n",
       "    </tr>\n",
       "    <tr>\n",
       "      <th>Date</th>\n",
       "      <th></th>\n",
       "      <th></th>\n",
       "    </tr>\n",
       "  </thead>\n",
       "  <tbody>\n",
       "    <tr>\n",
       "      <th>1987-05-20</th>\n",
       "      <td>18.63</td>\n",
       "      <td>NaN</td>\n",
       "    </tr>\n",
       "    <tr>\n",
       "      <th>1987-05-21</th>\n",
       "      <td>18.45</td>\n",
       "      <td>NaN</td>\n",
       "    </tr>\n",
       "    <tr>\n",
       "      <th>1987-05-22</th>\n",
       "      <td>18.55</td>\n",
       "      <td>NaN</td>\n",
       "    </tr>\n",
       "    <tr>\n",
       "      <th>1987-05-25</th>\n",
       "      <td>18.60</td>\n",
       "      <td>NaN</td>\n",
       "    </tr>\n",
       "    <tr>\n",
       "      <th>1987-05-26</th>\n",
       "      <td>18.63</td>\n",
       "      <td>NaN</td>\n",
       "    </tr>\n",
       "    <tr>\n",
       "      <th>...</th>\n",
       "      <td>...</td>\n",
       "      <td>...</td>\n",
       "    </tr>\n",
       "    <tr>\n",
       "      <th>2023-01-04</th>\n",
       "      <td>75.31</td>\n",
       "      <td>81.562454</td>\n",
       "    </tr>\n",
       "    <tr>\n",
       "      <th>2023-01-05</th>\n",
       "      <td>76.73</td>\n",
       "      <td>80.926247</td>\n",
       "    </tr>\n",
       "    <tr>\n",
       "      <th>2023-01-06</th>\n",
       "      <td>76.41</td>\n",
       "      <td>79.896332</td>\n",
       "    </tr>\n",
       "    <tr>\n",
       "      <th>2023-01-09</th>\n",
       "      <td>77.50</td>\n",
       "      <td>78.662697</td>\n",
       "    </tr>\n",
       "    <tr>\n",
       "      <th>2023-01-10</th>\n",
       "      <td>78.40</td>\n",
       "      <td>77.514610</td>\n",
       "    </tr>\n",
       "  </tbody>\n",
       "</table>\n",
       "<p>9061 rows × 2 columns</p>\n",
       "</div>"
      ],
      "text/plain": [
       "            Value  Predicted Price\n",
       "Date                              \n",
       "1987-05-20  18.63              NaN\n",
       "1987-05-21  18.45              NaN\n",
       "1987-05-22  18.55              NaN\n",
       "1987-05-25  18.60              NaN\n",
       "1987-05-26  18.63              NaN\n",
       "...           ...              ...\n",
       "2023-01-04  75.31        81.562454\n",
       "2023-01-05  76.73        80.926247\n",
       "2023-01-06  76.41        79.896332\n",
       "2023-01-09  77.50        78.662697\n",
       "2023-01-10  78.40        77.514610\n",
       "\n",
       "[9061 rows x 2 columns]"
      ]
     },
     "execution_count": 107,
     "metadata": {},
     "output_type": "execute_result"
    }
   ],
   "source": [
    "df"
   ]
  },
  {
   "cell_type": "markdown",
   "id": "81e8dd26",
   "metadata": {},
   "source": [
    "Exact difference of 100"
   ]
  },
  {
   "cell_type": "code",
   "execution_count": 108,
   "id": "a62df7e1",
   "metadata": {},
   "outputs": [],
   "source": [
    "t = []\n",
    "for i in range(100):\n",
    "    t.append(np.NaN)"
   ]
  },
  {
   "cell_type": "code",
   "execution_count": 109,
   "id": "defbd60a",
   "metadata": {},
   "outputs": [],
   "source": [
    "d = t+c"
   ]
  },
  {
   "cell_type": "code",
   "execution_count": 110,
   "id": "f8344acf",
   "metadata": {},
   "outputs": [
    {
     "data": {
      "text/plain": [
       "9061"
      ]
     },
     "execution_count": 110,
     "metadata": {},
     "output_type": "execute_result"
    }
   ],
   "source": [
    "len(d)"
   ]
  },
  {
   "cell_type": "code",
   "execution_count": 111,
   "id": "3953c238",
   "metadata": {},
   "outputs": [],
   "source": [
    "df['Predicted Price'] =d"
   ]
  },
  {
   "cell_type": "markdown",
   "id": "9e069d09",
   "metadata": {},
   "source": [
    "Below cell is showing the data frame and on the right first colomn is initial or actual values and on the right side it is the my predicteing values and will be showing `NaN` and why they showing `NaN` the reason is that, first 100 values we have taken for 101th values,So those hundred values is not predicted.\n",
    "So the first 100 values remain `NaN`"
   ]
  },
  {
   "cell_type": "code",
   "execution_count": 112,
   "id": "4f3a7cb2",
   "metadata": {},
   "outputs": [
    {
     "data": {
      "text/html": [
       "<div>\n",
       "<style scoped>\n",
       "    .dataframe tbody tr th:only-of-type {\n",
       "        vertical-align: middle;\n",
       "    }\n",
       "\n",
       "    .dataframe tbody tr th {\n",
       "        vertical-align: top;\n",
       "    }\n",
       "\n",
       "    .dataframe thead th {\n",
       "        text-align: right;\n",
       "    }\n",
       "</style>\n",
       "<table border=\"1\" class=\"dataframe\">\n",
       "  <thead>\n",
       "    <tr style=\"text-align: right;\">\n",
       "      <th></th>\n",
       "      <th>Value</th>\n",
       "      <th>Predicted Price</th>\n",
       "    </tr>\n",
       "    <tr>\n",
       "      <th>Date</th>\n",
       "      <th></th>\n",
       "      <th></th>\n",
       "    </tr>\n",
       "  </thead>\n",
       "  <tbody>\n",
       "    <tr>\n",
       "      <th>1987-05-20</th>\n",
       "      <td>18.63</td>\n",
       "      <td>NaN</td>\n",
       "    </tr>\n",
       "    <tr>\n",
       "      <th>1987-05-21</th>\n",
       "      <td>18.45</td>\n",
       "      <td>NaN</td>\n",
       "    </tr>\n",
       "    <tr>\n",
       "      <th>1987-05-22</th>\n",
       "      <td>18.55</td>\n",
       "      <td>NaN</td>\n",
       "    </tr>\n",
       "    <tr>\n",
       "      <th>1987-05-25</th>\n",
       "      <td>18.60</td>\n",
       "      <td>NaN</td>\n",
       "    </tr>\n",
       "    <tr>\n",
       "      <th>1987-05-26</th>\n",
       "      <td>18.63</td>\n",
       "      <td>NaN</td>\n",
       "    </tr>\n",
       "    <tr>\n",
       "      <th>...</th>\n",
       "      <td>...</td>\n",
       "      <td>...</td>\n",
       "    </tr>\n",
       "    <tr>\n",
       "      <th>2023-01-04</th>\n",
       "      <td>75.31</td>\n",
       "      <td>82.637993</td>\n",
       "    </tr>\n",
       "    <tr>\n",
       "      <th>2023-01-05</th>\n",
       "      <td>76.73</td>\n",
       "      <td>81.815170</td>\n",
       "    </tr>\n",
       "    <tr>\n",
       "      <th>2023-01-06</th>\n",
       "      <td>76.41</td>\n",
       "      <td>80.593155</td>\n",
       "    </tr>\n",
       "    <tr>\n",
       "      <th>2023-01-09</th>\n",
       "      <td>77.50</td>\n",
       "      <td>79.220253</td>\n",
       "    </tr>\n",
       "    <tr>\n",
       "      <th>2023-01-10</th>\n",
       "      <td>78.40</td>\n",
       "      <td>78.040276</td>\n",
       "    </tr>\n",
       "  </tbody>\n",
       "</table>\n",
       "<p>9061 rows × 2 columns</p>\n",
       "</div>"
      ],
      "text/plain": [
       "            Value  Predicted Price\n",
       "Date                              \n",
       "1987-05-20  18.63              NaN\n",
       "1987-05-21  18.45              NaN\n",
       "1987-05-22  18.55              NaN\n",
       "1987-05-25  18.60              NaN\n",
       "1987-05-26  18.63              NaN\n",
       "...           ...              ...\n",
       "2023-01-04  75.31        82.637993\n",
       "2023-01-05  76.73        81.815170\n",
       "2023-01-06  76.41        80.593155\n",
       "2023-01-09  77.50        79.220253\n",
       "2023-01-10  78.40        78.040276\n",
       "\n",
       "[9061 rows x 2 columns]"
      ]
     },
     "execution_count": 112,
     "metadata": {},
     "output_type": "execute_result"
    }
   ],
   "source": [
    "df"
   ]
  },
  {
   "cell_type": "markdown",
   "id": "e06e37a0",
   "metadata": {},
   "source": [
    "## Ploting my actual values and my predicted values for training set and testing set\n",
    "- On this point we haven't done any forecasting "
   ]
  },
  {
   "cell_type": "code",
   "execution_count": 113,
   "id": "4df82b39",
   "metadata": {},
   "outputs": [
    {
     "data": {
      "text/plain": [
       "<matplotlib.legend.Legend at 0x189398361a0>"
      ]
     },
     "execution_count": 113,
     "metadata": {},
     "output_type": "execute_result"
    },
    {
     "data": {
      "image/png": "[encoded data removed]",
      "text/plain": [
       "<Figure size 1600x700 with 1 Axes>"
      ]
     },
     "metadata": {},
     "output_type": "display_data"
    }
   ],
   "source": [
    "plt.figure(figsize = (16,7))\n",
    "plt.grid(True)\n",
    "plt.title('Crude oil Price Forecasting Training and Validation')\n",
    "plt.plot(df.index,df['Value'],label = \"Original Value\", c = \"blue\")\n",
    "plt.plot(df[:train_predict.shape[0]+w].index,df['Predicted Price'][:train_predict.shape[0]+w],label = \"Predicting Training Price\", c='red')\n",
    "plt.plot(df.index[train_predict.shape[0]+100:],df['Predicted Price'][train_predict.shape[0]+w:],label = \"Predicting Validating Price\",c ='green')\n",
    "plt.axvline(df.index[train_predict.shape[0]+w], color='black',lw=3)\n",
    "\n",
    "plt.legend()"
   ]
  },
  {
   "cell_type": "markdown",
   "id": "fd5b16b5",
   "metadata": {},
   "source": [
    "### Now I'm using this model for forecasting purpose because till this point I have data it  just looking good is predicting for the data that I have."
   ]
  },
  {
   "cell_type": "markdown",
   "id": "eace3d58",
   "metadata": {},
   "source": []
  },
  {
   "cell_type": "markdown",
   "id": "7cea7ab2",
   "metadata": {},
   "source": [
    "## Forecasting in Future\n",
    "- We have data till date `2023-01-10 to 1987-05-20`\n",
    "- Now I want the forcasted value after `2023-01-10`\n"
   ]
  },
  {
   "cell_type": "code",
   "execution_count": 60,
   "id": "708fc6b4",
   "metadata": {},
   "outputs": [
    {
     "data": {
      "text/html": [
       "<div>\n",
       "<style scoped>\n",
       "    .dataframe tbody tr th:only-of-type {\n",
       "        vertical-align: middle;\n",
       "    }\n",
       "\n",
       "    .dataframe tbody tr th {\n",
       "        vertical-align: top;\n",
       "    }\n",
       "\n",
       "    .dataframe thead th {\n",
       "        text-align: right;\n",
       "    }\n",
       "</style>\n",
       "<table border=\"1\" class=\"dataframe\">\n",
       "  <thead>\n",
       "    <tr style=\"text-align: right;\">\n",
       "      <th></th>\n",
       "      <th>Value</th>\n",
       "      <th>Predicted Price</th>\n",
       "    </tr>\n",
       "    <tr>\n",
       "      <th>Date</th>\n",
       "      <th></th>\n",
       "      <th></th>\n",
       "    </tr>\n",
       "  </thead>\n",
       "  <tbody>\n",
       "    <tr>\n",
       "      <th>1987-05-20</th>\n",
       "      <td>18.63</td>\n",
       "      <td>NaN</td>\n",
       "    </tr>\n",
       "    <tr>\n",
       "      <th>1987-05-21</th>\n",
       "      <td>18.45</td>\n",
       "      <td>NaN</td>\n",
       "    </tr>\n",
       "    <tr>\n",
       "      <th>1987-05-22</th>\n",
       "      <td>18.55</td>\n",
       "      <td>NaN</td>\n",
       "    </tr>\n",
       "    <tr>\n",
       "      <th>1987-05-25</th>\n",
       "      <td>18.60</td>\n",
       "      <td>NaN</td>\n",
       "    </tr>\n",
       "    <tr>\n",
       "      <th>1987-05-26</th>\n",
       "      <td>18.63</td>\n",
       "      <td>NaN</td>\n",
       "    </tr>\n",
       "    <tr>\n",
       "      <th>...</th>\n",
       "      <td>...</td>\n",
       "      <td>...</td>\n",
       "    </tr>\n",
       "    <tr>\n",
       "      <th>2023-01-04</th>\n",
       "      <td>75.31</td>\n",
       "      <td>81.562454</td>\n",
       "    </tr>\n",
       "    <tr>\n",
       "      <th>2023-01-05</th>\n",
       "      <td>76.73</td>\n",
       "      <td>80.926247</td>\n",
       "    </tr>\n",
       "    <tr>\n",
       "      <th>2023-01-06</th>\n",
       "      <td>76.41</td>\n",
       "      <td>79.896332</td>\n",
       "    </tr>\n",
       "    <tr>\n",
       "      <th>2023-01-09</th>\n",
       "      <td>77.50</td>\n",
       "      <td>78.662697</td>\n",
       "    </tr>\n",
       "    <tr>\n",
       "      <th>2023-01-10</th>\n",
       "      <td>78.40</td>\n",
       "      <td>77.514610</td>\n",
       "    </tr>\n",
       "  </tbody>\n",
       "</table>\n",
       "<p>9061 rows × 2 columns</p>\n",
       "</div>"
      ],
      "text/plain": [
       "            Value  Predicted Price\n",
       "Date                              \n",
       "1987-05-20  18.63              NaN\n",
       "1987-05-21  18.45              NaN\n",
       "1987-05-22  18.55              NaN\n",
       "1987-05-25  18.60              NaN\n",
       "1987-05-26  18.63              NaN\n",
       "...           ...              ...\n",
       "2023-01-04  75.31        81.562454\n",
       "2023-01-05  76.73        80.926247\n",
       "2023-01-06  76.41        79.896332\n",
       "2023-01-09  77.50        78.662697\n",
       "2023-01-10  78.40        77.514610\n",
       "\n",
       "[9061 rows x 2 columns]"
      ]
     },
     "execution_count": 60,
     "metadata": {},
     "output_type": "execute_result"
    }
   ],
   "source": [
    "df"
   ]
  },
  {
   "cell_type": "markdown",
   "id": "ec25bf5b",
   "metadata": {},
   "source": [
    "### First i'm making the data frame out of it first 100 values and reperseting that `CD`"
   ]
  },
  {
   "cell_type": "code",
   "execution_count": 63,
   "id": "9f9f4341",
   "metadata": {},
   "outputs": [],
   "source": [
    "cd = df[100:] #cd = Crude Oil"
   ]
  },
  {
   "cell_type": "code",
   "execution_count": 64,
   "id": "1611a7ff",
   "metadata": {},
   "outputs": [
    {
     "data": {
      "text/html": [
       "<div>\n",
       "<style scoped>\n",
       "    .dataframe tbody tr th:only-of-type {\n",
       "        vertical-align: middle;\n",
       "    }\n",
       "\n",
       "    .dataframe tbody tr th {\n",
       "        vertical-align: top;\n",
       "    }\n",
       "\n",
       "    .dataframe thead th {\n",
       "        text-align: right;\n",
       "    }\n",
       "</style>\n",
       "<table border=\"1\" class=\"dataframe\">\n",
       "  <thead>\n",
       "    <tr style=\"text-align: right;\">\n",
       "      <th></th>\n",
       "      <th>Value</th>\n",
       "      <th>Predicted Price</th>\n",
       "    </tr>\n",
       "    <tr>\n",
       "      <th>Date</th>\n",
       "      <th></th>\n",
       "      <th></th>\n",
       "    </tr>\n",
       "  </thead>\n",
       "  <tbody>\n",
       "    <tr>\n",
       "      <th>1987-10-08</th>\n",
       "      <td>18.63</td>\n",
       "      <td>18.483572</td>\n",
       "    </tr>\n",
       "    <tr>\n",
       "      <th>1987-10-09</th>\n",
       "      <td>18.60</td>\n",
       "      <td>18.491814</td>\n",
       "    </tr>\n",
       "    <tr>\n",
       "      <th>1987-10-12</th>\n",
       "      <td>18.55</td>\n",
       "      <td>18.496473</td>\n",
       "    </tr>\n",
       "    <tr>\n",
       "      <th>1987-10-13</th>\n",
       "      <td>18.55</td>\n",
       "      <td>18.496679</td>\n",
       "    </tr>\n",
       "    <tr>\n",
       "      <th>1987-10-14</th>\n",
       "      <td>18.68</td>\n",
       "      <td>18.492405</td>\n",
       "    </tr>\n",
       "    <tr>\n",
       "      <th>...</th>\n",
       "      <td>...</td>\n",
       "      <td>...</td>\n",
       "    </tr>\n",
       "    <tr>\n",
       "      <th>2023-01-04</th>\n",
       "      <td>75.31</td>\n",
       "      <td>81.562454</td>\n",
       "    </tr>\n",
       "    <tr>\n",
       "      <th>2023-01-05</th>\n",
       "      <td>76.73</td>\n",
       "      <td>80.926247</td>\n",
       "    </tr>\n",
       "    <tr>\n",
       "      <th>2023-01-06</th>\n",
       "      <td>76.41</td>\n",
       "      <td>79.896332</td>\n",
       "    </tr>\n",
       "    <tr>\n",
       "      <th>2023-01-09</th>\n",
       "      <td>77.50</td>\n",
       "      <td>78.662697</td>\n",
       "    </tr>\n",
       "    <tr>\n",
       "      <th>2023-01-10</th>\n",
       "      <td>78.40</td>\n",
       "      <td>77.514610</td>\n",
       "    </tr>\n",
       "  </tbody>\n",
       "</table>\n",
       "<p>8961 rows × 2 columns</p>\n",
       "</div>"
      ],
      "text/plain": [
       "            Value  Predicted Price\n",
       "Date                              \n",
       "1987-10-08  18.63        18.483572\n",
       "1987-10-09  18.60        18.491814\n",
       "1987-10-12  18.55        18.496473\n",
       "1987-10-13  18.55        18.496679\n",
       "1987-10-14  18.68        18.492405\n",
       "...           ...              ...\n",
       "2023-01-04  75.31        81.562454\n",
       "2023-01-05  76.73        80.926247\n",
       "2023-01-06  76.41        79.896332\n",
       "2023-01-09  77.50        78.662697\n",
       "2023-01-10  78.40        77.514610\n",
       "\n",
       "[8961 rows x 2 columns]"
      ]
     },
     "execution_count": 64,
     "metadata": {},
     "output_type": "execute_result"
    }
   ],
   "source": [
    "cd"
   ]
  },
  {
   "cell_type": "markdown",
   "id": "a9866aff",
   "metadata": {},
   "source": [
    "## Test data shape"
   ]
  },
  {
   "cell_type": "code",
   "execution_count": 114,
   "id": "9711e911",
   "metadata": {},
   "outputs": [
    {
     "data": {
      "text/plain": [
       "(363, 1)"
      ]
     },
     "execution_count": 114,
     "metadata": {},
     "output_type": "execute_result"
    }
   ],
   "source": [
    "test_data.shape"
   ]
  },
  {
   "cell_type": "markdown",
   "id": "7e914801",
   "metadata": {},
   "source": [
    "- On this step I am going to use last 100 point and will we predicting the output of `2023-01-201 "
   ]
  },
  {
   "cell_type": "code",
   "execution_count": 66,
   "id": "65154484",
   "metadata": {},
   "outputs": [
    {
     "data": {
      "text/plain": [
       "(1, 100)"
      ]
     },
     "execution_count": 66,
     "metadata": {},
     "output_type": "execute_result"
    }
   ],
   "source": [
    "#For next one day price, Last 100 days data is needed\n",
    "x_input = test_data[-100:].reshape(1,-1)\n",
    "x_input.shape"
   ]
  },
  {
   "cell_type": "markdown",
   "id": "3ceb47ee",
   "metadata": {},
   "source": [
    "- Here I am able to calculate the crude price for `20th of Jan `"
   ]
  },
  {
   "cell_type": "code",
   "execution_count": 67,
   "id": "b1f91efc",
   "metadata": {},
   "outputs": [
    {
     "data": {
      "text/plain": [
       "array([[1.45350153, 1.4565443 , 1.41424976, 1.5490446 , 1.56060714,\n",
       "        1.52835375, 1.59894608, 1.54448044, 1.45958708, 1.32844356,\n",
       "        1.35430713, 1.38869047, 1.3037971 , 1.16382954, 1.19912571,\n",
       "        1.31140403, 1.36526111, 1.32235802, 1.34639592, 1.23837748,\n",
       "        1.24294164, 1.24294164, 1.24872291, 1.25602556, 1.27245654,\n",
       "        1.08654311, 1.03359886, 1.13766169, 1.24659297, 1.24233309,\n",
       "        1.22681494, 1.2809763 , 1.37408516, 1.39264607, 1.43220212,\n",
       "        1.53048369, 1.47723516, 1.41759681, 1.36495684, 1.41729253,\n",
       "        1.32783501, 1.29193029, 1.24385447, 1.3010586 , 1.3065356 ,\n",
       "        1.31566391, 1.30805698, 1.34943869, 1.38716908, 1.40147011,\n",
       "        1.36069696, 1.41607542, 1.44498177, 1.42124814, 1.55026171,\n",
       "        1.56060714, 1.4687154 , 1.35309002, 1.3896033 , 1.45411009,\n",
       "        1.369521  , 1.39112469, 1.33970182, 1.29071318, 1.22772778,\n",
       "        1.21281819, 1.21920801, 1.13553175, 1.12609916, 1.05946243,\n",
       "        1.0625052 , 1.05398544, 1.12670771, 1.14709429, 1.1550055 ,\n",
       "        1.05824532, 0.95357393, 0.86807201, 0.83490578, 0.84555549,\n",
       "        0.89515269, 1.05733249, 1.02720903, 0.96209369, 1.00651818,\n",
       "        0.93927289, 0.96361508, 0.9432285 , 1.03055608, 1.03055608,\n",
       "        1.00773529, 0.98521877, 1.04181434, 1.04181434, 0.96696213,\n",
       "        0.81330209, 0.85650947, 0.8467726 , 0.87993882, 0.90732378]])"
      ]
     },
     "execution_count": 67,
     "metadata": {},
     "output_type": "execute_result"
    }
   ],
   "source": [
    "x_input"
   ]
  },
  {
   "cell_type": "code",
   "execution_count": 68,
   "id": "99935ad6",
   "metadata": {},
   "outputs": [],
   "source": [
    "temp_input = list(x_input)"
   ]
  },
  {
   "cell_type": "code",
   "execution_count": 69,
   "id": "fbd575d2",
   "metadata": {},
   "outputs": [
    {
     "data": {
      "text/plain": [
       "[array([1.45350153, 1.4565443 , 1.41424976, 1.5490446 , 1.56060714,\n",
       "        1.52835375, 1.59894608, 1.54448044, 1.45958708, 1.32844356,\n",
       "        1.35430713, 1.38869047, 1.3037971 , 1.16382954, 1.19912571,\n",
       "        1.31140403, 1.36526111, 1.32235802, 1.34639592, 1.23837748,\n",
       "        1.24294164, 1.24294164, 1.24872291, 1.25602556, 1.27245654,\n",
       "        1.08654311, 1.03359886, 1.13766169, 1.24659297, 1.24233309,\n",
       "        1.22681494, 1.2809763 , 1.37408516, 1.39264607, 1.43220212,\n",
       "        1.53048369, 1.47723516, 1.41759681, 1.36495684, 1.41729253,\n",
       "        1.32783501, 1.29193029, 1.24385447, 1.3010586 , 1.3065356 ,\n",
       "        1.31566391, 1.30805698, 1.34943869, 1.38716908, 1.40147011,\n",
       "        1.36069696, 1.41607542, 1.44498177, 1.42124814, 1.55026171,\n",
       "        1.56060714, 1.4687154 , 1.35309002, 1.3896033 , 1.45411009,\n",
       "        1.369521  , 1.39112469, 1.33970182, 1.29071318, 1.22772778,\n",
       "        1.21281819, 1.21920801, 1.13553175, 1.12609916, 1.05946243,\n",
       "        1.0625052 , 1.05398544, 1.12670771, 1.14709429, 1.1550055 ,\n",
       "        1.05824532, 0.95357393, 0.86807201, 0.83490578, 0.84555549,\n",
       "        0.89515269, 1.05733249, 1.02720903, 0.96209369, 1.00651818,\n",
       "        0.93927289, 0.96361508, 0.9432285 , 1.03055608, 1.03055608,\n",
       "        1.00773529, 0.98521877, 1.04181434, 1.04181434, 0.96696213,\n",
       "        0.81330209, 0.85650947, 0.8467726 , 0.87993882, 0.90732378])]"
      ]
     },
     "execution_count": 69,
     "metadata": {},
     "output_type": "execute_result"
    }
   ],
   "source": [
    "temp_input"
   ]
  },
  {
   "cell_type": "code",
   "execution_count": 70,
   "id": "8234a86c",
   "metadata": {},
   "outputs": [],
   "source": [
    "temp_input = temp_input[0].tolist()"
   ]
  },
  {
   "cell_type": "code",
   "execution_count": 71,
   "id": "844f4a1a",
   "metadata": {},
   "outputs": [
    {
     "data": {
      "text/plain": [
       "[1.453501531482521,\n",
       " 1.456544304480334,\n",
       " 1.4142497598107389,\n",
       " 1.5490446036138363,\n",
       " 1.5606071410055244,\n",
       " 1.528353747228711,\n",
       " 1.5989460807779627,\n",
       " 1.5444804441171178,\n",
       " 1.4595870774781463,\n",
       " 1.3284435612724237,\n",
       " 1.3543071317538309,\n",
       " 1.388690466629113,\n",
       " 1.303797099990142,\n",
       " 1.1638295420907627,\n",
       " 1.1991257088653886,\n",
       " 1.3114040324846736,\n",
       " 1.3652611145459563,\n",
       " 1.3223580152767989,\n",
       " 1.346395921959518,\n",
       " 1.2383774805371712,\n",
       " 1.2429416400338904,\n",
       " 1.2429416400338904,\n",
       " 1.2487229087297342,\n",
       " 1.2560255639244842,\n",
       " 1.2724565381126725,\n",
       " 1.0865431079463232,\n",
       " 1.033598857784384,\n",
       " 1.1376616943095745,\n",
       " 1.246592967631265,\n",
       " 1.2423330854343275,\n",
       " 1.2268149431454836,\n",
       " 1.2809763025065477,\n",
       " 1.3740851562396126,\n",
       " 1.3926460715262692,\n",
       " 1.4322021204978332,\n",
       " 1.5304836883271795,\n",
       " 1.4772351608654593,\n",
       " 1.4175968101083327,\n",
       " 1.364956837246175,\n",
       " 1.4172925328085513,\n",
       " 1.3278350066728613,\n",
       " 1.291930285298673,\n",
       " 1.2438544719332336,\n",
       " 1.3010586042921106,\n",
       " 1.306535595688173,\n",
       " 1.3156639146816107,\n",
       " 1.3080569821870793,\n",
       " 1.349438694957331,\n",
       " 1.3871690801302068,\n",
       " 1.401470113219926,\n",
       " 1.3606969550492372,\n",
       " 1.4160754236094266,\n",
       " 1.4449817670886458,\n",
       " 1.421248137705708,\n",
       " 1.5502617128129617,\n",
       " 1.5606071410055244,\n",
       " 1.468715396471584,\n",
       " 1.3530900225547058,\n",
       " 1.3896032985284568,\n",
       " 1.454110086082084,\n",
       " 1.3695209967428938,\n",
       " 1.391124685027363,\n",
       " 1.3397018213643304,\n",
       " 1.2907131760995478,\n",
       " 1.2277277750448274,\n",
       " 1.2128181873555455,\n",
       " 1.219208010650952,\n",
       " 1.1355317532111058,\n",
       " 1.1260991569178869,\n",
       " 1.0594624282657912,\n",
       " 1.0625052012636036,\n",
       " 1.0539854368697283,\n",
       " 1.126707711517449,\n",
       " 1.1470942906027937,\n",
       " 1.1550055003971065,\n",
       " 1.0582453190666659,\n",
       " 0.953573927941913,\n",
       " 0.8680720067033791,\n",
       " 0.8349057810272218,\n",
       " 0.8455554865195661,\n",
       " 0.8951526863839112,\n",
       " 1.0573324871673222,\n",
       " 1.0272090344889777,\n",
       " 0.9620936923357882,\n",
       " 1.006518178103852,\n",
       " 0.9392728948521938,\n",
       " 0.9636150788346944,\n",
       " 0.9432284997493501,\n",
       " 1.0305560847865716,\n",
       " 1.0305560847865716,\n",
       " 1.007735287302977,\n",
       " 0.9852187671191637,\n",
       " 1.0418143448784778,\n",
       " 1.0418143448784778,\n",
       " 0.9669621291322883,\n",
       " 0.8133020927427527,\n",
       " 0.8565094693116915,\n",
       " 0.8467725957186909,\n",
       " 0.8799388213948482,\n",
       " 0.9073237783751618]"
      ]
     },
     "execution_count": 71,
     "metadata": {},
     "output_type": "execute_result"
    }
   ],
   "source": [
    "temp_input"
   ]
  },
  {
   "cell_type": "markdown",
   "id": "a561b33b",
   "metadata": {},
   "source": [
    "# Demonstrate predictions for next 30 Days:\n",
    "- First time else loop willl run, reshape is done and after tht it passes to model and prediction is done for 101st day, after that this 101th day data is added in final output. And this 101 day data will be used in previous input list. Now the input list will have 101 elements so the if loop will run and the data for first day is fropped so that we can take data from day 2 to day 101 and predict data for day 102, in a similary way the loopa qill run for 30 days\n",
    "\n",
    "- for i=0(first loop in while). the else loop will run because 100 elements are present in temp_input. After adding data for 101 day from forecasting. the if loop will run and 1st data will be excluded"
   ]
  },
  {
   "cell_type": "code",
   "execution_count": 76,
   "id": "28755ce4",
   "metadata": {},
   "outputs": [
    {
     "name": "stdout",
     "output_type": "stream",
     "text": [
      "0 day input [1.22681494 1.2809763  1.37408516 1.39264607 1.43220212 1.53048369\n",
      " 1.47723516 1.41759681 1.36495684 1.41729253 1.32783501 1.29193029\n",
      " 1.24385447 1.3010586  1.3065356  1.31566391 1.30805698 1.34943869\n",
      " 1.38716908 1.40147011 1.36069696 1.41607542 1.44498177 1.42124814\n",
      " 1.55026171 1.56060714 1.4687154  1.35309002 1.3896033  1.45411009\n",
      " 1.369521   1.39112469 1.33970182 1.29071318 1.22772778 1.21281819\n",
      " 1.21920801 1.13553175 1.12609916 1.05946243 1.0625052  1.05398544\n",
      " 1.12670771 1.14709429 1.1550055  1.05824532 0.95357393 0.86807201\n",
      " 0.83490578 0.84555549 0.89515269 1.05733249 1.02720903 0.96209369\n",
      " 1.00651818 0.93927289 0.96361508 0.9432285  1.03055608 1.03055608\n",
      " 1.00773529 0.98521877 1.04181434 1.04181434 0.96696213 0.81330209\n",
      " 0.85650947 0.8467726  0.87993882 0.90732378 0.85434347 0.83424342\n",
      " 0.81829005 0.80492669 0.79308236 0.78212416 0.77173001 0.76176274\n",
      " 0.75217807 0.74296665 0.73412442 0.72564119 0.71749741 0.70966667\n",
      " 0.70211965 0.69482529 0.68775445 0.68088084 0.67418003 0.66763198\n",
      " 0.66121829 0.65492409 0.64873695 0.64264596 0.63664216 0.63071883\n",
      " 0.62486982 0.6190902  0.61337686 0.6077264 ]\n",
      "1/1 [==============================] - 0s 43ms/step\n",
      "0 day output [[0.6021368]]\n",
      "1 day input [1.2809763  1.37408516 1.39264607 1.43220212 1.53048369 1.47723516\n",
      " 1.41759681 1.36495684 1.41729253 1.32783501 1.29193029 1.24385447\n",
      " 1.3010586  1.3065356  1.31566391 1.30805698 1.34943869 1.38716908\n",
      " 1.40147011 1.36069696 1.41607542 1.44498177 1.42124814 1.55026171\n",
      " 1.56060714 1.4687154  1.35309002 1.3896033  1.45411009 1.369521\n",
      " 1.39112469 1.33970182 1.29071318 1.22772778 1.21281819 1.21920801\n",
      " 1.13553175 1.12609916 1.05946243 1.0625052  1.05398544 1.12670771\n",
      " 1.14709429 1.1550055  1.05824532 0.95357393 0.86807201 0.83490578\n",
      " 0.84555549 0.89515269 1.05733249 1.02720903 0.96209369 1.00651818\n",
      " 0.93927289 0.96361508 0.9432285  1.03055608 1.03055608 1.00773529\n",
      " 0.98521877 1.04181434 1.04181434 0.96696213 0.81330209 0.85650947\n",
      " 0.8467726  0.87993882 0.90732378 0.85434347 0.83424342 0.81829005\n",
      " 0.80492669 0.79308236 0.78212416 0.77173001 0.76176274 0.75217807\n",
      " 0.74296665 0.73412442 0.72564119 0.71749741 0.70966667 0.70211965\n",
      " 0.69482529 0.68775445 0.68088084 0.67418003 0.66763198 0.66121829\n",
      " 0.65492409 0.64873695 0.64264596 0.63664216 0.63071883 0.62486982\n",
      " 0.6190902  0.61337686 0.6077264  0.60213679]\n",
      "1/1 [==============================] - 0s 37ms/step\n",
      "1 day output [[0.59660673]]\n",
      "2 day input [1.37408516 1.39264607 1.43220212 1.53048369 1.47723516 1.41759681\n",
      " 1.36495684 1.41729253 1.32783501 1.29193029 1.24385447 1.3010586\n",
      " 1.3065356  1.31566391 1.30805698 1.34943869 1.38716908 1.40147011\n",
      " 1.36069696 1.41607542 1.44498177 1.42124814 1.55026171 1.56060714\n",
      " 1.4687154  1.35309002 1.3896033  1.45411009 1.369521   1.39112469\n",
      " 1.33970182 1.29071318 1.22772778 1.21281819 1.21920801 1.13553175\n",
      " 1.12609916 1.05946243 1.0625052  1.05398544 1.12670771 1.14709429\n",
      " 1.1550055  1.05824532 0.95357393 0.86807201 0.83490578 0.84555549\n",
      " 0.89515269 1.05733249 1.02720903 0.96209369 1.00651818 0.93927289\n",
      " 0.96361508 0.9432285  1.03055608 1.03055608 1.00773529 0.98521877\n",
      " 1.04181434 1.04181434 0.96696213 0.81330209 0.85650947 0.8467726\n",
      " 0.87993882 0.90732378 0.85434347 0.83424342 0.81829005 0.80492669\n",
      " 0.79308236 0.78212416 0.77173001 0.76176274 0.75217807 0.74296665\n",
      " 0.73412442 0.72564119 0.71749741 0.70966667 0.70211965 0.69482529\n",
      " 0.68775445 0.68088084 0.67418003 0.66763198 0.66121829 0.65492409\n",
      " 0.64873695 0.64264596 0.63664216 0.63071883 0.62486982 0.6190902\n",
      " 0.61337686 0.6077264  0.60213679 0.59660673]\n",
      "1/1 [==============================] - 0s 36ms/step\n",
      "2 day output [[0.5911344]]\n",
      "3 day input [1.39264607 1.43220212 1.53048369 1.47723516 1.41759681 1.36495684\n",
      " 1.41729253 1.32783501 1.29193029 1.24385447 1.3010586  1.3065356\n",
      " 1.31566391 1.30805698 1.34943869 1.38716908 1.40147011 1.36069696\n",
      " 1.41607542 1.44498177 1.42124814 1.55026171 1.56060714 1.4687154\n",
      " 1.35309002 1.3896033  1.45411009 1.369521   1.39112469 1.33970182\n",
      " 1.29071318 1.22772778 1.21281819 1.21920801 1.13553175 1.12609916\n",
      " 1.05946243 1.0625052  1.05398544 1.12670771 1.14709429 1.1550055\n",
      " 1.05824532 0.95357393 0.86807201 0.83490578 0.84555549 0.89515269\n",
      " 1.05733249 1.02720903 0.96209369 1.00651818 0.93927289 0.96361508\n",
      " 0.9432285  1.03055608 1.03055608 1.00773529 0.98521877 1.04181434\n",
      " 1.04181434 0.96696213 0.81330209 0.85650947 0.8467726  0.87993882\n",
      " 0.90732378 0.85434347 0.83424342 0.81829005 0.80492669 0.79308236\n",
      " 0.78212416 0.77173001 0.76176274 0.75217807 0.74296665 0.73412442\n",
      " 0.72564119 0.71749741 0.70966667 0.70211965 0.69482529 0.68775445\n",
      " 0.68088084 0.67418003 0.66763198 0.66121829 0.65492409 0.64873695\n",
      " 0.64264596 0.63664216 0.63071883 0.62486982 0.6190902  0.61337686\n",
      " 0.6077264  0.60213679 0.59660673 0.59113443]\n",
      "1/1 [==============================] - 0s 35ms/step\n",
      "3 day output [[0.5857192]]\n",
      "4 day input [1.43220212 1.53048369 1.47723516 1.41759681 1.36495684 1.41729253\n",
      " 1.32783501 1.29193029 1.24385447 1.3010586  1.3065356  1.31566391\n",
      " 1.30805698 1.34943869 1.38716908 1.40147011 1.36069696 1.41607542\n",
      " 1.44498177 1.42124814 1.55026171 1.56060714 1.4687154  1.35309002\n",
      " 1.3896033  1.45411009 1.369521   1.39112469 1.33970182 1.29071318\n",
      " 1.22772778 1.21281819 1.21920801 1.13553175 1.12609916 1.05946243\n",
      " 1.0625052  1.05398544 1.12670771 1.14709429 1.1550055  1.05824532\n",
      " 0.95357393 0.86807201 0.83490578 0.84555549 0.89515269 1.05733249\n",
      " 1.02720903 0.96209369 1.00651818 0.93927289 0.96361508 0.9432285\n",
      " 1.03055608 1.03055608 1.00773529 0.98521877 1.04181434 1.04181434\n",
      " 0.96696213 0.81330209 0.85650947 0.8467726  0.87993882 0.90732378\n",
      " 0.85434347 0.83424342 0.81829005 0.80492669 0.79308236 0.78212416\n",
      " 0.77173001 0.76176274 0.75217807 0.74296665 0.73412442 0.72564119\n",
      " 0.71749741 0.70966667 0.70211965 0.69482529 0.68775445 0.68088084\n",
      " 0.67418003 0.66763198 0.66121829 0.65492409 0.64873695 0.64264596\n",
      " 0.63664216 0.63071883 0.62486982 0.6190902  0.61337686 0.6077264\n",
      " 0.60213679 0.59660673 0.59113443 0.58571923]\n",
      "1/1 [==============================] - 0s 37ms/step\n",
      "4 day output [[0.580361]]\n",
      "5 day input [1.53048369 1.47723516 1.41759681 1.36495684 1.41729253 1.32783501\n",
      " 1.29193029 1.24385447 1.3010586  1.3065356  1.31566391 1.30805698\n",
      " 1.34943869 1.38716908 1.40147011 1.36069696 1.41607542 1.44498177\n",
      " 1.42124814 1.55026171 1.56060714 1.4687154  1.35309002 1.3896033\n",
      " 1.45411009 1.369521   1.39112469 1.33970182 1.29071318 1.22772778\n",
      " 1.21281819 1.21920801 1.13553175 1.12609916 1.05946243 1.0625052\n",
      " 1.05398544 1.12670771 1.14709429 1.1550055  1.05824532 0.95357393\n",
      " 0.86807201 0.83490578 0.84555549 0.89515269 1.05733249 1.02720903\n",
      " 0.96209369 1.00651818 0.93927289 0.96361508 0.9432285  1.03055608\n",
      " 1.03055608 1.00773529 0.98521877 1.04181434 1.04181434 0.96696213\n",
      " 0.81330209 0.85650947 0.8467726  0.87993882 0.90732378 0.85434347\n",
      " 0.83424342 0.81829005 0.80492669 0.79308236 0.78212416 0.77173001\n",
      " 0.76176274 0.75217807 0.74296665 0.73412442 0.72564119 0.71749741\n",
      " 0.70966667 0.70211965 0.69482529 0.68775445 0.68088084 0.67418003\n",
      " 0.66763198 0.66121829 0.65492409 0.64873695 0.64264596 0.63664216\n",
      " 0.63071883 0.62486982 0.6190902  0.61337686 0.6077264  0.60213679\n",
      " 0.59660673 0.59113443 0.58571923 0.58036101]\n",
      "1/1 [==============================] - 0s 43ms/step\n",
      "5 day output [[0.5750588]]\n",
      "6 day input [1.47723516 1.41759681 1.36495684 1.41729253 1.32783501 1.29193029\n",
      " 1.24385447 1.3010586  1.3065356  1.31566391 1.30805698 1.34943869\n",
      " 1.38716908 1.40147011 1.36069696 1.41607542 1.44498177 1.42124814\n",
      " 1.55026171 1.56060714 1.4687154  1.35309002 1.3896033  1.45411009\n",
      " 1.369521   1.39112469 1.33970182 1.29071318 1.22772778 1.21281819\n",
      " 1.21920801 1.13553175 1.12609916 1.05946243 1.0625052  1.05398544\n",
      " 1.12670771 1.14709429 1.1550055  1.05824532 0.95357393 0.86807201\n",
      " 0.83490578 0.84555549 0.89515269 1.05733249 1.02720903 0.96209369\n",
      " 1.00651818 0.93927289 0.96361508 0.9432285  1.03055608 1.03055608\n",
      " 1.00773529 0.98521877 1.04181434 1.04181434 0.96696213 0.81330209\n",
      " 0.85650947 0.8467726  0.87993882 0.90732378 0.85434347 0.83424342\n",
      " 0.81829005 0.80492669 0.79308236 0.78212416 0.77173001 0.76176274\n",
      " 0.75217807 0.74296665 0.73412442 0.72564119 0.71749741 0.70966667\n",
      " 0.70211965 0.69482529 0.68775445 0.68088084 0.67418003 0.66763198\n",
      " 0.66121829 0.65492409 0.64873695 0.64264596 0.63664216 0.63071883\n",
      " 0.62486982 0.6190902  0.61337686 0.6077264  0.60213679 0.59660673\n",
      " 0.59113443 0.58571923 0.58036101 0.57505882]\n"
     ]
    },
    {
     "name": "stdout",
     "output_type": "stream",
     "text": [
      "1/1 [==============================] - 0s 39ms/step\n",
      "6 day output [[0.5698128]]\n",
      "7 day input [1.41759681 1.36495684 1.41729253 1.32783501 1.29193029 1.24385447\n",
      " 1.3010586  1.3065356  1.31566391 1.30805698 1.34943869 1.38716908\n",
      " 1.40147011 1.36069696 1.41607542 1.44498177 1.42124814 1.55026171\n",
      " 1.56060714 1.4687154  1.35309002 1.3896033  1.45411009 1.369521\n",
      " 1.39112469 1.33970182 1.29071318 1.22772778 1.21281819 1.21920801\n",
      " 1.13553175 1.12609916 1.05946243 1.0625052  1.05398544 1.12670771\n",
      " 1.14709429 1.1550055  1.05824532 0.95357393 0.86807201 0.83490578\n",
      " 0.84555549 0.89515269 1.05733249 1.02720903 0.96209369 1.00651818\n",
      " 0.93927289 0.96361508 0.9432285  1.03055608 1.03055608 1.00773529\n",
      " 0.98521877 1.04181434 1.04181434 0.96696213 0.81330209 0.85650947\n",
      " 0.8467726  0.87993882 0.90732378 0.85434347 0.83424342 0.81829005\n",
      " 0.80492669 0.79308236 0.78212416 0.77173001 0.76176274 0.75217807\n",
      " 0.74296665 0.73412442 0.72564119 0.71749741 0.70966667 0.70211965\n",
      " 0.69482529 0.68775445 0.68088084 0.67418003 0.66763198 0.66121829\n",
      " 0.65492409 0.64873695 0.64264596 0.63664216 0.63071883 0.62486982\n",
      " 0.6190902  0.61337686 0.6077264  0.60213679 0.59660673 0.59113443\n",
      " 0.58571923 0.58036101 0.57505882 0.56981277]\n",
      "1/1 [==============================] - 0s 39ms/step\n",
      "7 day output [[0.5646226]]\n",
      "8 day input [1.36495684 1.41729253 1.32783501 1.29193029 1.24385447 1.3010586\n",
      " 1.3065356  1.31566391 1.30805698 1.34943869 1.38716908 1.40147011\n",
      " 1.36069696 1.41607542 1.44498177 1.42124814 1.55026171 1.56060714\n",
      " 1.4687154  1.35309002 1.3896033  1.45411009 1.369521   1.39112469\n",
      " 1.33970182 1.29071318 1.22772778 1.21281819 1.21920801 1.13553175\n",
      " 1.12609916 1.05946243 1.0625052  1.05398544 1.12670771 1.14709429\n",
      " 1.1550055  1.05824532 0.95357393 0.86807201 0.83490578 0.84555549\n",
      " 0.89515269 1.05733249 1.02720903 0.96209369 1.00651818 0.93927289\n",
      " 0.96361508 0.9432285  1.03055608 1.03055608 1.00773529 0.98521877\n",
      " 1.04181434 1.04181434 0.96696213 0.81330209 0.85650947 0.8467726\n",
      " 0.87993882 0.90732378 0.85434347 0.83424342 0.81829005 0.80492669\n",
      " 0.79308236 0.78212416 0.77173001 0.76176274 0.75217807 0.74296665\n",
      " 0.73412442 0.72564119 0.71749741 0.70966667 0.70211965 0.69482529\n",
      " 0.68775445 0.68088084 0.67418003 0.66763198 0.66121829 0.65492409\n",
      " 0.64873695 0.64264596 0.63664216 0.63071883 0.62486982 0.6190902\n",
      " 0.61337686 0.6077264  0.60213679 0.59660673 0.59113443 0.58571923\n",
      " 0.58036101 0.57505882 0.56981277 0.56462258]\n",
      "1/1 [==============================] - 0s 47ms/step\n",
      "8 day output [[0.5594882]]\n",
      "9 day input [1.41729253 1.32783501 1.29193029 1.24385447 1.3010586  1.3065356\n",
      " 1.31566391 1.30805698 1.34943869 1.38716908 1.40147011 1.36069696\n",
      " 1.41607542 1.44498177 1.42124814 1.55026171 1.56060714 1.4687154\n",
      " 1.35309002 1.3896033  1.45411009 1.369521   1.39112469 1.33970182\n",
      " 1.29071318 1.22772778 1.21281819 1.21920801 1.13553175 1.12609916\n",
      " 1.05946243 1.0625052  1.05398544 1.12670771 1.14709429 1.1550055\n",
      " 1.05824532 0.95357393 0.86807201 0.83490578 0.84555549 0.89515269\n",
      " 1.05733249 1.02720903 0.96209369 1.00651818 0.93927289 0.96361508\n",
      " 0.9432285  1.03055608 1.03055608 1.00773529 0.98521877 1.04181434\n",
      " 1.04181434 0.96696213 0.81330209 0.85650947 0.8467726  0.87993882\n",
      " 0.90732378 0.85434347 0.83424342 0.81829005 0.80492669 0.79308236\n",
      " 0.78212416 0.77173001 0.76176274 0.75217807 0.74296665 0.73412442\n",
      " 0.72564119 0.71749741 0.70966667 0.70211965 0.69482529 0.68775445\n",
      " 0.68088084 0.67418003 0.66763198 0.66121829 0.65492409 0.64873695\n",
      " 0.64264596 0.63664216 0.63071883 0.62486982 0.6190902  0.61337686\n",
      " 0.6077264  0.60213679 0.59660673 0.59113443 0.58571923 0.58036101\n",
      " 0.57505882 0.56981277 0.56462258 0.55948818]\n",
      "1/1 [==============================] - 0s 45ms/step\n",
      "9 day output [[0.5544097]]\n",
      "10 day input [1.32783501 1.29193029 1.24385447 1.3010586  1.3065356  1.31566391\n",
      " 1.30805698 1.34943869 1.38716908 1.40147011 1.36069696 1.41607542\n",
      " 1.44498177 1.42124814 1.55026171 1.56060714 1.4687154  1.35309002\n",
      " 1.3896033  1.45411009 1.369521   1.39112469 1.33970182 1.29071318\n",
      " 1.22772778 1.21281819 1.21920801 1.13553175 1.12609916 1.05946243\n",
      " 1.0625052  1.05398544 1.12670771 1.14709429 1.1550055  1.05824532\n",
      " 0.95357393 0.86807201 0.83490578 0.84555549 0.89515269 1.05733249\n",
      " 1.02720903 0.96209369 1.00651818 0.93927289 0.96361508 0.9432285\n",
      " 1.03055608 1.03055608 1.00773529 0.98521877 1.04181434 1.04181434\n",
      " 0.96696213 0.81330209 0.85650947 0.8467726  0.87993882 0.90732378\n",
      " 0.85434347 0.83424342 0.81829005 0.80492669 0.79308236 0.78212416\n",
      " 0.77173001 0.76176274 0.75217807 0.74296665 0.73412442 0.72564119\n",
      " 0.71749741 0.70966667 0.70211965 0.69482529 0.68775445 0.68088084\n",
      " 0.67418003 0.66763198 0.66121829 0.65492409 0.64873695 0.64264596\n",
      " 0.63664216 0.63071883 0.62486982 0.6190902  0.61337686 0.6077264\n",
      " 0.60213679 0.59660673 0.59113443 0.58571923 0.58036101 0.57505882\n",
      " 0.56981277 0.56462258 0.55948818 0.55440968]\n",
      "1/1 [==============================] - 0s 44ms/step\n",
      "10 day output [[0.549387]]\n",
      "11 day input [1.29193029 1.24385447 1.3010586  1.3065356  1.31566391 1.30805698\n",
      " 1.34943869 1.38716908 1.40147011 1.36069696 1.41607542 1.44498177\n",
      " 1.42124814 1.55026171 1.56060714 1.4687154  1.35309002 1.3896033\n",
      " 1.45411009 1.369521   1.39112469 1.33970182 1.29071318 1.22772778\n",
      " 1.21281819 1.21920801 1.13553175 1.12609916 1.05946243 1.0625052\n",
      " 1.05398544 1.12670771 1.14709429 1.1550055  1.05824532 0.95357393\n",
      " 0.86807201 0.83490578 0.84555549 0.89515269 1.05733249 1.02720903\n",
      " 0.96209369 1.00651818 0.93927289 0.96361508 0.9432285  1.03055608\n",
      " 1.03055608 1.00773529 0.98521877 1.04181434 1.04181434 0.96696213\n",
      " 0.81330209 0.85650947 0.8467726  0.87993882 0.90732378 0.85434347\n",
      " 0.83424342 0.81829005 0.80492669 0.79308236 0.78212416 0.77173001\n",
      " 0.76176274 0.75217807 0.74296665 0.73412442 0.72564119 0.71749741\n",
      " 0.70966667 0.70211965 0.69482529 0.68775445 0.68088084 0.67418003\n",
      " 0.66763198 0.66121829 0.65492409 0.64873695 0.64264596 0.63664216\n",
      " 0.63071883 0.62486982 0.6190902  0.61337686 0.6077264  0.60213679\n",
      " 0.59660673 0.59113443 0.58571923 0.58036101 0.57505882 0.56981277\n",
      " 0.56462258 0.55948818 0.55440968 0.54938698]\n",
      "1/1 [==============================] - 0s 55ms/step\n",
      "11 day output [[0.54442]]\n",
      "12 day input [1.24385447 1.3010586  1.3065356  1.31566391 1.30805698 1.34943869\n",
      " 1.38716908 1.40147011 1.36069696 1.41607542 1.44498177 1.42124814\n",
      " 1.55026171 1.56060714 1.4687154  1.35309002 1.3896033  1.45411009\n",
      " 1.369521   1.39112469 1.33970182 1.29071318 1.22772778 1.21281819\n",
      " 1.21920801 1.13553175 1.12609916 1.05946243 1.0625052  1.05398544\n",
      " 1.12670771 1.14709429 1.1550055  1.05824532 0.95357393 0.86807201\n",
      " 0.83490578 0.84555549 0.89515269 1.05733249 1.02720903 0.96209369\n",
      " 1.00651818 0.93927289 0.96361508 0.9432285  1.03055608 1.03055608\n",
      " 1.00773529 0.98521877 1.04181434 1.04181434 0.96696213 0.81330209\n",
      " 0.85650947 0.8467726  0.87993882 0.90732378 0.85434347 0.83424342\n",
      " 0.81829005 0.80492669 0.79308236 0.78212416 0.77173001 0.76176274\n",
      " 0.75217807 0.74296665 0.73412442 0.72564119 0.71749741 0.70966667\n",
      " 0.70211965 0.69482529 0.68775445 0.68088084 0.67418003 0.66763198\n",
      " 0.66121829 0.65492409 0.64873695 0.64264596 0.63664216 0.63071883\n",
      " 0.62486982 0.6190902  0.61337686 0.6077264  0.60213679 0.59660673\n",
      " 0.59113443 0.58571923 0.58036101 0.57505882 0.56981277 0.56462258\n",
      " 0.55948818 0.55440968 0.54938698 0.54442   ]\n",
      "1/1 [==============================] - 0s 44ms/step\n",
      "12 day output [[0.53950846]]\n",
      "13 day input [1.3010586  1.3065356  1.31566391 1.30805698 1.34943869 1.38716908\n",
      " 1.40147011 1.36069696 1.41607542 1.44498177 1.42124814 1.55026171\n",
      " 1.56060714 1.4687154  1.35309002 1.3896033  1.45411009 1.369521\n",
      " 1.39112469 1.33970182 1.29071318 1.22772778 1.21281819 1.21920801\n",
      " 1.13553175 1.12609916 1.05946243 1.0625052  1.05398544 1.12670771\n",
      " 1.14709429 1.1550055  1.05824532 0.95357393 0.86807201 0.83490578\n",
      " 0.84555549 0.89515269 1.05733249 1.02720903 0.96209369 1.00651818\n",
      " 0.93927289 0.96361508 0.9432285  1.03055608 1.03055608 1.00773529\n",
      " 0.98521877 1.04181434 1.04181434 0.96696213 0.81330209 0.85650947\n",
      " 0.8467726  0.87993882 0.90732378 0.85434347 0.83424342 0.81829005\n",
      " 0.80492669 0.79308236 0.78212416 0.77173001 0.76176274 0.75217807\n",
      " 0.74296665 0.73412442 0.72564119 0.71749741 0.70966667 0.70211965\n",
      " 0.69482529 0.68775445 0.68088084 0.67418003 0.66763198 0.66121829\n",
      " 0.65492409 0.64873695 0.64264596 0.63664216 0.63071883 0.62486982\n",
      " 0.6190902  0.61337686 0.6077264  0.60213679 0.59660673 0.59113443\n",
      " 0.58571923 0.58036101 0.57505882 0.56981277 0.56462258 0.55948818\n",
      " 0.55440968 0.54938698 0.54442    0.53950846]\n"
     ]
    },
    {
     "name": "stdout",
     "output_type": "stream",
     "text": [
      "1/1 [==============================] - 0s 47ms/step\n",
      "13 day output [[0.5346527]]\n",
      "14 day input [1.3065356  1.31566391 1.30805698 1.34943869 1.38716908 1.40147011\n",
      " 1.36069696 1.41607542 1.44498177 1.42124814 1.55026171 1.56060714\n",
      " 1.4687154  1.35309002 1.3896033  1.45411009 1.369521   1.39112469\n",
      " 1.33970182 1.29071318 1.22772778 1.21281819 1.21920801 1.13553175\n",
      " 1.12609916 1.05946243 1.0625052  1.05398544 1.12670771 1.14709429\n",
      " 1.1550055  1.05824532 0.95357393 0.86807201 0.83490578 0.84555549\n",
      " 0.89515269 1.05733249 1.02720903 0.96209369 1.00651818 0.93927289\n",
      " 0.96361508 0.9432285  1.03055608 1.03055608 1.00773529 0.98521877\n",
      " 1.04181434 1.04181434 0.96696213 0.81330209 0.85650947 0.8467726\n",
      " 0.87993882 0.90732378 0.85434347 0.83424342 0.81829005 0.80492669\n",
      " 0.79308236 0.78212416 0.77173001 0.76176274 0.75217807 0.74296665\n",
      " 0.73412442 0.72564119 0.71749741 0.70966667 0.70211965 0.69482529\n",
      " 0.68775445 0.68088084 0.67418003 0.66763198 0.66121829 0.65492409\n",
      " 0.64873695 0.64264596 0.63664216 0.63071883 0.62486982 0.6190902\n",
      " 0.61337686 0.6077264  0.60213679 0.59660673 0.59113443 0.58571923\n",
      " 0.58036101 0.57505882 0.56981277 0.56462258 0.55948818 0.55440968\n",
      " 0.54938698 0.54442    0.53950846 0.53465271]\n",
      "1/1 [==============================] - 0s 47ms/step\n",
      "14 day output [[0.5298522]]\n",
      "15 day input [1.31566391 1.30805698 1.34943869 1.38716908 1.40147011 1.36069696\n",
      " 1.41607542 1.44498177 1.42124814 1.55026171 1.56060714 1.4687154\n",
      " 1.35309002 1.3896033  1.45411009 1.369521   1.39112469 1.33970182\n",
      " 1.29071318 1.22772778 1.21281819 1.21920801 1.13553175 1.12609916\n",
      " 1.05946243 1.0625052  1.05398544 1.12670771 1.14709429 1.1550055\n",
      " 1.05824532 0.95357393 0.86807201 0.83490578 0.84555549 0.89515269\n",
      " 1.05733249 1.02720903 0.96209369 1.00651818 0.93927289 0.96361508\n",
      " 0.9432285  1.03055608 1.03055608 1.00773529 0.98521877 1.04181434\n",
      " 1.04181434 0.96696213 0.81330209 0.85650947 0.8467726  0.87993882\n",
      " 0.90732378 0.85434347 0.83424342 0.81829005 0.80492669 0.79308236\n",
      " 0.78212416 0.77173001 0.76176274 0.75217807 0.74296665 0.73412442\n",
      " 0.72564119 0.71749741 0.70966667 0.70211965 0.69482529 0.68775445\n",
      " 0.68088084 0.67418003 0.66763198 0.66121829 0.65492409 0.64873695\n",
      " 0.64264596 0.63664216 0.63071883 0.62486982 0.6190902  0.61337686\n",
      " 0.6077264  0.60213679 0.59660673 0.59113443 0.58571923 0.58036101\n",
      " 0.57505882 0.56981277 0.56462258 0.55948818 0.55440968 0.54938698\n",
      " 0.54442    0.53950846 0.53465271 0.52985221]\n",
      "1/1 [==============================] - 0s 47ms/step\n",
      "15 day output [[0.5251069]]\n",
      "16 day input [1.30805698 1.34943869 1.38716908 1.40147011 1.36069696 1.41607542\n",
      " 1.44498177 1.42124814 1.55026171 1.56060714 1.4687154  1.35309002\n",
      " 1.3896033  1.45411009 1.369521   1.39112469 1.33970182 1.29071318\n",
      " 1.22772778 1.21281819 1.21920801 1.13553175 1.12609916 1.05946243\n",
      " 1.0625052  1.05398544 1.12670771 1.14709429 1.1550055  1.05824532\n",
      " 0.95357393 0.86807201 0.83490578 0.84555549 0.89515269 1.05733249\n",
      " 1.02720903 0.96209369 1.00651818 0.93927289 0.96361508 0.9432285\n",
      " 1.03055608 1.03055608 1.00773529 0.98521877 1.04181434 1.04181434\n",
      " 0.96696213 0.81330209 0.85650947 0.8467726  0.87993882 0.90732378\n",
      " 0.85434347 0.83424342 0.81829005 0.80492669 0.79308236 0.78212416\n",
      " 0.77173001 0.76176274 0.75217807 0.74296665 0.73412442 0.72564119\n",
      " 0.71749741 0.70966667 0.70211965 0.69482529 0.68775445 0.68088084\n",
      " 0.67418003 0.66763198 0.66121829 0.65492409 0.64873695 0.64264596\n",
      " 0.63664216 0.63071883 0.62486982 0.6190902  0.61337686 0.6077264\n",
      " 0.60213679 0.59660673 0.59113443 0.58571923 0.58036101 0.57505882\n",
      " 0.56981277 0.56462258 0.55948818 0.55440968 0.54938698 0.54442\n",
      " 0.53950846 0.53465271 0.52985221 0.52510691]\n",
      "1/1 [==============================] - 0s 44ms/step\n",
      "16 day output [[0.52041656]]\n",
      "17 day input [1.34943869 1.38716908 1.40147011 1.36069696 1.41607542 1.44498177\n",
      " 1.42124814 1.55026171 1.56060714 1.4687154  1.35309002 1.3896033\n",
      " 1.45411009 1.369521   1.39112469 1.33970182 1.29071318 1.22772778\n",
      " 1.21281819 1.21920801 1.13553175 1.12609916 1.05946243 1.0625052\n",
      " 1.05398544 1.12670771 1.14709429 1.1550055  1.05824532 0.95357393\n",
      " 0.86807201 0.83490578 0.84555549 0.89515269 1.05733249 1.02720903\n",
      " 0.96209369 1.00651818 0.93927289 0.96361508 0.9432285  1.03055608\n",
      " 1.03055608 1.00773529 0.98521877 1.04181434 1.04181434 0.96696213\n",
      " 0.81330209 0.85650947 0.8467726  0.87993882 0.90732378 0.85434347\n",
      " 0.83424342 0.81829005 0.80492669 0.79308236 0.78212416 0.77173001\n",
      " 0.76176274 0.75217807 0.74296665 0.73412442 0.72564119 0.71749741\n",
      " 0.70966667 0.70211965 0.69482529 0.68775445 0.68088084 0.67418003\n",
      " 0.66763198 0.66121829 0.65492409 0.64873695 0.64264596 0.63664216\n",
      " 0.63071883 0.62486982 0.6190902  0.61337686 0.6077264  0.60213679\n",
      " 0.59660673 0.59113443 0.58571923 0.58036101 0.57505882 0.56981277\n",
      " 0.56462258 0.55948818 0.55440968 0.54938698 0.54442    0.53950846\n",
      " 0.53465271 0.52985221 0.52510691 0.52041656]\n",
      "1/1 [==============================] - 0s 46ms/step\n",
      "17 day output [[0.515781]]\n",
      "18 day input [1.38716908 1.40147011 1.36069696 1.41607542 1.44498177 1.42124814\n",
      " 1.55026171 1.56060714 1.4687154  1.35309002 1.3896033  1.45411009\n",
      " 1.369521   1.39112469 1.33970182 1.29071318 1.22772778 1.21281819\n",
      " 1.21920801 1.13553175 1.12609916 1.05946243 1.0625052  1.05398544\n",
      " 1.12670771 1.14709429 1.1550055  1.05824532 0.95357393 0.86807201\n",
      " 0.83490578 0.84555549 0.89515269 1.05733249 1.02720903 0.96209369\n",
      " 1.00651818 0.93927289 0.96361508 0.9432285  1.03055608 1.03055608\n",
      " 1.00773529 0.98521877 1.04181434 1.04181434 0.96696213 0.81330209\n",
      " 0.85650947 0.8467726  0.87993882 0.90732378 0.85434347 0.83424342\n",
      " 0.81829005 0.80492669 0.79308236 0.78212416 0.77173001 0.76176274\n",
      " 0.75217807 0.74296665 0.73412442 0.72564119 0.71749741 0.70966667\n",
      " 0.70211965 0.69482529 0.68775445 0.68088084 0.67418003 0.66763198\n",
      " 0.66121829 0.65492409 0.64873695 0.64264596 0.63664216 0.63071883\n",
      " 0.62486982 0.6190902  0.61337686 0.6077264  0.60213679 0.59660673\n",
      " 0.59113443 0.58571923 0.58036101 0.57505882 0.56981277 0.56462258\n",
      " 0.55948818 0.55440968 0.54938698 0.54442    0.53950846 0.53465271\n",
      " 0.52985221 0.52510691 0.52041656 0.51578099]\n",
      "1/1 [==============================] - 0s 47ms/step\n",
      "18 day output [[0.5111996]]\n",
      "19 day input [1.40147011 1.36069696 1.41607542 1.44498177 1.42124814 1.55026171\n",
      " 1.56060714 1.4687154  1.35309002 1.3896033  1.45411009 1.369521\n",
      " 1.39112469 1.33970182 1.29071318 1.22772778 1.21281819 1.21920801\n",
      " 1.13553175 1.12609916 1.05946243 1.0625052  1.05398544 1.12670771\n",
      " 1.14709429 1.1550055  1.05824532 0.95357393 0.86807201 0.83490578\n",
      " 0.84555549 0.89515269 1.05733249 1.02720903 0.96209369 1.00651818\n",
      " 0.93927289 0.96361508 0.9432285  1.03055608 1.03055608 1.00773529\n",
      " 0.98521877 1.04181434 1.04181434 0.96696213 0.81330209 0.85650947\n",
      " 0.8467726  0.87993882 0.90732378 0.85434347 0.83424342 0.81829005\n",
      " 0.80492669 0.79308236 0.78212416 0.77173001 0.76176274 0.75217807\n",
      " 0.74296665 0.73412442 0.72564119 0.71749741 0.70966667 0.70211965\n",
      " 0.69482529 0.68775445 0.68088084 0.67418003 0.66763198 0.66121829\n",
      " 0.65492409 0.64873695 0.64264596 0.63664216 0.63071883 0.62486982\n",
      " 0.6190902  0.61337686 0.6077264  0.60213679 0.59660673 0.59113443\n",
      " 0.58571923 0.58036101 0.57505882 0.56981277 0.56462258 0.55948818\n",
      " 0.55440968 0.54938698 0.54442    0.53950846 0.53465271 0.52985221\n",
      " 0.52510691 0.52041656 0.51578099 0.51119959]\n",
      "1/1 [==============================] - 0s 44ms/step\n",
      "19 day output [[0.50667214]]\n",
      "20 day input [1.36069696 1.41607542 1.44498177 1.42124814 1.55026171 1.56060714\n",
      " 1.4687154  1.35309002 1.3896033  1.45411009 1.369521   1.39112469\n",
      " 1.33970182 1.29071318 1.22772778 1.21281819 1.21920801 1.13553175\n",
      " 1.12609916 1.05946243 1.0625052  1.05398544 1.12670771 1.14709429\n",
      " 1.1550055  1.05824532 0.95357393 0.86807201 0.83490578 0.84555549\n",
      " 0.89515269 1.05733249 1.02720903 0.96209369 1.00651818 0.93927289\n",
      " 0.96361508 0.9432285  1.03055608 1.03055608 1.00773529 0.98521877\n",
      " 1.04181434 1.04181434 0.96696213 0.81330209 0.85650947 0.8467726\n",
      " 0.87993882 0.90732378 0.85434347 0.83424342 0.81829005 0.80492669\n",
      " 0.79308236 0.78212416 0.77173001 0.76176274 0.75217807 0.74296665\n",
      " 0.73412442 0.72564119 0.71749741 0.70966667 0.70211965 0.69482529\n",
      " 0.68775445 0.68088084 0.67418003 0.66763198 0.66121829 0.65492409\n",
      " 0.64873695 0.64264596 0.63664216 0.63071883 0.62486982 0.6190902\n",
      " 0.61337686 0.6077264  0.60213679 0.59660673 0.59113443 0.58571923\n",
      " 0.58036101 0.57505882 0.56981277 0.56462258 0.55948818 0.55440968\n",
      " 0.54938698 0.54442    0.53950846 0.53465271 0.52985221 0.52510691\n",
      " 0.52041656 0.51578099 0.51119959 0.50667214]\n"
     ]
    },
    {
     "name": "stdout",
     "output_type": "stream",
     "text": [
      "1/1 [==============================] - 0s 42ms/step\n",
      "20 day output [[0.50219834]]\n",
      "21 day input [1.41607542 1.44498177 1.42124814 1.55026171 1.56060714 1.4687154\n",
      " 1.35309002 1.3896033  1.45411009 1.369521   1.39112469 1.33970182\n",
      " 1.29071318 1.22772778 1.21281819 1.21920801 1.13553175 1.12609916\n",
      " 1.05946243 1.0625052  1.05398544 1.12670771 1.14709429 1.1550055\n",
      " 1.05824532 0.95357393 0.86807201 0.83490578 0.84555549 0.89515269\n",
      " 1.05733249 1.02720903 0.96209369 1.00651818 0.93927289 0.96361508\n",
      " 0.9432285  1.03055608 1.03055608 1.00773529 0.98521877 1.04181434\n",
      " 1.04181434 0.96696213 0.81330209 0.85650947 0.8467726  0.87993882\n",
      " 0.90732378 0.85434347 0.83424342 0.81829005 0.80492669 0.79308236\n",
      " 0.78212416 0.77173001 0.76176274 0.75217807 0.74296665 0.73412442\n",
      " 0.72564119 0.71749741 0.70966667 0.70211965 0.69482529 0.68775445\n",
      " 0.68088084 0.67418003 0.66763198 0.66121829 0.65492409 0.64873695\n",
      " 0.64264596 0.63664216 0.63071883 0.62486982 0.6190902  0.61337686\n",
      " 0.6077264  0.60213679 0.59660673 0.59113443 0.58571923 0.58036101\n",
      " 0.57505882 0.56981277 0.56462258 0.55948818 0.55440968 0.54938698\n",
      " 0.54442    0.53950846 0.53465271 0.52985221 0.52510691 0.52041656\n",
      " 0.51578099 0.51119959 0.50667214 0.50219834]\n",
      "1/1 [==============================] - 0s 43ms/step\n",
      "21 day output [[0.49777746]]\n",
      "22 day input [1.44498177 1.42124814 1.55026171 1.56060714 1.4687154  1.35309002\n",
      " 1.3896033  1.45411009 1.369521   1.39112469 1.33970182 1.29071318\n",
      " 1.22772778 1.21281819 1.21920801 1.13553175 1.12609916 1.05946243\n",
      " 1.0625052  1.05398544 1.12670771 1.14709429 1.1550055  1.05824532\n",
      " 0.95357393 0.86807201 0.83490578 0.84555549 0.89515269 1.05733249\n",
      " 1.02720903 0.96209369 1.00651818 0.93927289 0.96361508 0.9432285\n",
      " 1.03055608 1.03055608 1.00773529 0.98521877 1.04181434 1.04181434\n",
      " 0.96696213 0.81330209 0.85650947 0.8467726  0.87993882 0.90732378\n",
      " 0.85434347 0.83424342 0.81829005 0.80492669 0.79308236 0.78212416\n",
      " 0.77173001 0.76176274 0.75217807 0.74296665 0.73412442 0.72564119\n",
      " 0.71749741 0.70966667 0.70211965 0.69482529 0.68775445 0.68088084\n",
      " 0.67418003 0.66763198 0.66121829 0.65492409 0.64873695 0.64264596\n",
      " 0.63664216 0.63071883 0.62486982 0.6190902  0.61337686 0.6077264\n",
      " 0.60213679 0.59660673 0.59113443 0.58571923 0.58036101 0.57505882\n",
      " 0.56981277 0.56462258 0.55948818 0.55440968 0.54938698 0.54442\n",
      " 0.53950846 0.53465271 0.52985221 0.52510691 0.52041656 0.51578099\n",
      " 0.51119959 0.50667214 0.50219834 0.49777746]\n",
      "1/1 [==============================] - 0s 43ms/step\n",
      "22 day output [[0.49340916]]\n",
      "23 day input [1.42124814 1.55026171 1.56060714 1.4687154  1.35309002 1.3896033\n",
      " 1.45411009 1.369521   1.39112469 1.33970182 1.29071318 1.22772778\n",
      " 1.21281819 1.21920801 1.13553175 1.12609916 1.05946243 1.0625052\n",
      " 1.05398544 1.12670771 1.14709429 1.1550055  1.05824532 0.95357393\n",
      " 0.86807201 0.83490578 0.84555549 0.89515269 1.05733249 1.02720903\n",
      " 0.96209369 1.00651818 0.93927289 0.96361508 0.9432285  1.03055608\n",
      " 1.03055608 1.00773529 0.98521877 1.04181434 1.04181434 0.96696213\n",
      " 0.81330209 0.85650947 0.8467726  0.87993882 0.90732378 0.85434347\n",
      " 0.83424342 0.81829005 0.80492669 0.79308236 0.78212416 0.77173001\n",
      " 0.76176274 0.75217807 0.74296665 0.73412442 0.72564119 0.71749741\n",
      " 0.70966667 0.70211965 0.69482529 0.68775445 0.68088084 0.67418003\n",
      " 0.66763198 0.66121829 0.65492409 0.64873695 0.64264596 0.63664216\n",
      " 0.63071883 0.62486982 0.6190902  0.61337686 0.6077264  0.60213679\n",
      " 0.59660673 0.59113443 0.58571923 0.58036101 0.57505882 0.56981277\n",
      " 0.56462258 0.55948818 0.55440968 0.54938698 0.54442    0.53950846\n",
      " 0.53465271 0.52985221 0.52510691 0.52041656 0.51578099 0.51119959\n",
      " 0.50667214 0.50219834 0.49777746 0.49340916]\n",
      "1/1 [==============================] - 0s 44ms/step\n",
      "23 day output [[0.48909286]]\n",
      "24 day input [1.55026171 1.56060714 1.4687154  1.35309002 1.3896033  1.45411009\n",
      " 1.369521   1.39112469 1.33970182 1.29071318 1.22772778 1.21281819\n",
      " 1.21920801 1.13553175 1.12609916 1.05946243 1.0625052  1.05398544\n",
      " 1.12670771 1.14709429 1.1550055  1.05824532 0.95357393 0.86807201\n",
      " 0.83490578 0.84555549 0.89515269 1.05733249 1.02720903 0.96209369\n",
      " 1.00651818 0.93927289 0.96361508 0.9432285  1.03055608 1.03055608\n",
      " 1.00773529 0.98521877 1.04181434 1.04181434 0.96696213 0.81330209\n",
      " 0.85650947 0.8467726  0.87993882 0.90732378 0.85434347 0.83424342\n",
      " 0.81829005 0.80492669 0.79308236 0.78212416 0.77173001 0.76176274\n",
      " 0.75217807 0.74296665 0.73412442 0.72564119 0.71749741 0.70966667\n",
      " 0.70211965 0.69482529 0.68775445 0.68088084 0.67418003 0.66763198\n",
      " 0.66121829 0.65492409 0.64873695 0.64264596 0.63664216 0.63071883\n",
      " 0.62486982 0.6190902  0.61337686 0.6077264  0.60213679 0.59660673\n",
      " 0.59113443 0.58571923 0.58036101 0.57505882 0.56981277 0.56462258\n",
      " 0.55948818 0.55440968 0.54938698 0.54442    0.53950846 0.53465271\n",
      " 0.52985221 0.52510691 0.52041656 0.51578099 0.51119959 0.50667214\n",
      " 0.50219834 0.49777746 0.49340916 0.48909286]\n",
      "1/1 [==============================] - 0s 47ms/step\n",
      "24 day output [[0.48482826]]\n",
      "25 day input [1.56060714 1.4687154  1.35309002 1.3896033  1.45411009 1.369521\n",
      " 1.39112469 1.33970182 1.29071318 1.22772778 1.21281819 1.21920801\n",
      " 1.13553175 1.12609916 1.05946243 1.0625052  1.05398544 1.12670771\n",
      " 1.14709429 1.1550055  1.05824532 0.95357393 0.86807201 0.83490578\n",
      " 0.84555549 0.89515269 1.05733249 1.02720903 0.96209369 1.00651818\n",
      " 0.93927289 0.96361508 0.9432285  1.03055608 1.03055608 1.00773529\n",
      " 0.98521877 1.04181434 1.04181434 0.96696213 0.81330209 0.85650947\n",
      " 0.8467726  0.87993882 0.90732378 0.85434347 0.83424342 0.81829005\n",
      " 0.80492669 0.79308236 0.78212416 0.77173001 0.76176274 0.75217807\n",
      " 0.74296665 0.73412442 0.72564119 0.71749741 0.70966667 0.70211965\n",
      " 0.69482529 0.68775445 0.68088084 0.67418003 0.66763198 0.66121829\n",
      " 0.65492409 0.64873695 0.64264596 0.63664216 0.63071883 0.62486982\n",
      " 0.6190902  0.61337686 0.6077264  0.60213679 0.59660673 0.59113443\n",
      " 0.58571923 0.58036101 0.57505882 0.56981277 0.56462258 0.55948818\n",
      " 0.55440968 0.54938698 0.54442    0.53950846 0.53465271 0.52985221\n",
      " 0.52510691 0.52041656 0.51578099 0.51119959 0.50667214 0.50219834\n",
      " 0.49777746 0.49340916 0.48909286 0.48482826]\n",
      "1/1 [==============================] - 0s 41ms/step\n",
      "25 day output [[0.4806143]]\n",
      "26 day input [1.4687154  1.35309002 1.3896033  1.45411009 1.369521   1.39112469\n",
      " 1.33970182 1.29071318 1.22772778 1.21281819 1.21920801 1.13553175\n",
      " 1.12609916 1.05946243 1.0625052  1.05398544 1.12670771 1.14709429\n",
      " 1.1550055  1.05824532 0.95357393 0.86807201 0.83490578 0.84555549\n",
      " 0.89515269 1.05733249 1.02720903 0.96209369 1.00651818 0.93927289\n",
      " 0.96361508 0.9432285  1.03055608 1.03055608 1.00773529 0.98521877\n",
      " 1.04181434 1.04181434 0.96696213 0.81330209 0.85650947 0.8467726\n",
      " 0.87993882 0.90732378 0.85434347 0.83424342 0.81829005 0.80492669\n",
      " 0.79308236 0.78212416 0.77173001 0.76176274 0.75217807 0.74296665\n",
      " 0.73412442 0.72564119 0.71749741 0.70966667 0.70211965 0.69482529\n",
      " 0.68775445 0.68088084 0.67418003 0.66763198 0.66121829 0.65492409\n",
      " 0.64873695 0.64264596 0.63664216 0.63071883 0.62486982 0.6190902\n",
      " 0.61337686 0.6077264  0.60213679 0.59660673 0.59113443 0.58571923\n",
      " 0.58036101 0.57505882 0.56981277 0.56462258 0.55948818 0.55440968\n",
      " 0.54938698 0.54442    0.53950846 0.53465271 0.52985221 0.52510691\n",
      " 0.52041656 0.51578099 0.51119959 0.50667214 0.50219834 0.49777746\n",
      " 0.49340916 0.48909286 0.48482826 0.4806143 ]\n",
      "1/1 [==============================] - 0s 44ms/step\n",
      "26 day output [[0.47645062]]\n",
      "27 day input [1.35309002 1.3896033  1.45411009 1.369521   1.39112469 1.33970182\n",
      " 1.29071318 1.22772778 1.21281819 1.21920801 1.13553175 1.12609916\n",
      " 1.05946243 1.0625052  1.05398544 1.12670771 1.14709429 1.1550055\n",
      " 1.05824532 0.95357393 0.86807201 0.83490578 0.84555549 0.89515269\n",
      " 1.05733249 1.02720903 0.96209369 1.00651818 0.93927289 0.96361508\n",
      " 0.9432285  1.03055608 1.03055608 1.00773529 0.98521877 1.04181434\n",
      " 1.04181434 0.96696213 0.81330209 0.85650947 0.8467726  0.87993882\n",
      " 0.90732378 0.85434347 0.83424342 0.81829005 0.80492669 0.79308236\n",
      " 0.78212416 0.77173001 0.76176274 0.75217807 0.74296665 0.73412442\n",
      " 0.72564119 0.71749741 0.70966667 0.70211965 0.69482529 0.68775445\n",
      " 0.68088084 0.67418003 0.66763198 0.66121829 0.65492409 0.64873695\n",
      " 0.64264596 0.63664216 0.63071883 0.62486982 0.6190902  0.61337686\n",
      " 0.6077264  0.60213679 0.59660673 0.59113443 0.58571923 0.58036101\n",
      " 0.57505882 0.56981277 0.56462258 0.55948818 0.55440968 0.54938698\n",
      " 0.54442    0.53950846 0.53465271 0.52985221 0.52510691 0.52041656\n",
      " 0.51578099 0.51119959 0.50667214 0.50219834 0.49777746 0.49340916\n",
      " 0.48909286 0.48482826 0.4806143  0.47645062]\n"
     ]
    },
    {
     "name": "stdout",
     "output_type": "stream",
     "text": [
      "1/1 [==============================] - 0s 43ms/step\n",
      "27 day output [[0.47233668]]\n",
      "28 day input [1.3896033  1.45411009 1.369521   1.39112469 1.33970182 1.29071318\n",
      " 1.22772778 1.21281819 1.21920801 1.13553175 1.12609916 1.05946243\n",
      " 1.0625052  1.05398544 1.12670771 1.14709429 1.1550055  1.05824532\n",
      " 0.95357393 0.86807201 0.83490578 0.84555549 0.89515269 1.05733249\n",
      " 1.02720903 0.96209369 1.00651818 0.93927289 0.96361508 0.9432285\n",
      " 1.03055608 1.03055608 1.00773529 0.98521877 1.04181434 1.04181434\n",
      " 0.96696213 0.81330209 0.85650947 0.8467726  0.87993882 0.90732378\n",
      " 0.85434347 0.83424342 0.81829005 0.80492669 0.79308236 0.78212416\n",
      " 0.77173001 0.76176274 0.75217807 0.74296665 0.73412442 0.72564119\n",
      " 0.71749741 0.70966667 0.70211965 0.69482529 0.68775445 0.68088084\n",
      " 0.67418003 0.66763198 0.66121829 0.65492409 0.64873695 0.64264596\n",
      " 0.63664216 0.63071883 0.62486982 0.6190902  0.61337686 0.6077264\n",
      " 0.60213679 0.59660673 0.59113443 0.58571923 0.58036101 0.57505882\n",
      " 0.56981277 0.56462258 0.55948818 0.55440968 0.54938698 0.54442\n",
      " 0.53950846 0.53465271 0.52985221 0.52510691 0.52041656 0.51578099\n",
      " 0.51119959 0.50667214 0.50219834 0.49777746 0.49340916 0.48909286\n",
      " 0.48482826 0.4806143  0.47645062 0.47233668]\n",
      "1/1 [==============================] - 0s 44ms/step\n",
      "28 day output [[0.46827173]]\n",
      "29 day input [1.45411009 1.369521   1.39112469 1.33970182 1.29071318 1.22772778\n",
      " 1.21281819 1.21920801 1.13553175 1.12609916 1.05946243 1.0625052\n",
      " 1.05398544 1.12670771 1.14709429 1.1550055  1.05824532 0.95357393\n",
      " 0.86807201 0.83490578 0.84555549 0.89515269 1.05733249 1.02720903\n",
      " 0.96209369 1.00651818 0.93927289 0.96361508 0.9432285  1.03055608\n",
      " 1.03055608 1.00773529 0.98521877 1.04181434 1.04181434 0.96696213\n",
      " 0.81330209 0.85650947 0.8467726  0.87993882 0.90732378 0.85434347\n",
      " 0.83424342 0.81829005 0.80492669 0.79308236 0.78212416 0.77173001\n",
      " 0.76176274 0.75217807 0.74296665 0.73412442 0.72564119 0.71749741\n",
      " 0.70966667 0.70211965 0.69482529 0.68775445 0.68088084 0.67418003\n",
      " 0.66763198 0.66121829 0.65492409 0.64873695 0.64264596 0.63664216\n",
      " 0.63071883 0.62486982 0.6190902  0.61337686 0.6077264  0.60213679\n",
      " 0.59660673 0.59113443 0.58571923 0.58036101 0.57505882 0.56981277\n",
      " 0.56462258 0.55948818 0.55440968 0.54938698 0.54442    0.53950846\n",
      " 0.53465271 0.52985221 0.52510691 0.52041656 0.51578099 0.51119959\n",
      " 0.50667214 0.50219834 0.49777746 0.49340916 0.48909286 0.48482826\n",
      " 0.4806143  0.47645062 0.47233668 0.46827173]\n",
      "1/1 [==============================] - 0s 46ms/step\n",
      "29 day output [[0.46425515]]\n",
      "[[0.6021367907524109], [0.5966067314147949], [0.5911344289779663], [0.5857192277908325], [0.580361008644104], [0.5750588178634644], [0.5698127746582031], [0.5646225810050964], [0.5594881772994995], [0.5544096827507019], [0.5493869781494141], [0.5444200038909912], [0.5395084619522095], [0.5346527099609375], [0.5298522114753723], [0.5251069068908691], [0.5204165577888489], [0.5157809853553772], [0.5111995935440063], [0.5066721439361572], [0.502198338508606], [0.49777746200561523], [0.4934091567993164], [0.4890928566455841], [0.48482826352119446], [0.4806143045425415], [0.4764506220817566], [0.47233667969703674], [0.46827173233032227], [0.464255154132843]]\n"
     ]
    }
   ],
   "source": [
    "lst_output = []\n",
    "n_steps = 100\n",
    "i=0\n",
    "# Here Yhat is the cure price of 101th day or next day\n",
    "\n",
    "while i<30: #For 30 days forecast\n",
    "    if(len(temp_input)>100):\n",
    "        #print(temp_input)\n",
    "        x_input = np.array(temp_input[1:]) # Taking x_input values from 2nd value onward\n",
    "        print('{} day input {}'.format(i,x_input))\n",
    "        x_input = x_input.reshape(1,-1)\n",
    "        x_input = x_input.reshape((1, n_steps,1)) #making tensor of 1 batch,with n rows and 1 column\n",
    "        #print(x_input)\n",
    "        yhat = model.predict(x_input,verbose=1)\n",
    "        print('{} day output {}'.format(i,yhat))\n",
    "        temp_input.extend(yhat[0].tolist()) # Adding forecasting value to the temp_input.\n",
    "        temp_input = temp_input[1:] # Because after adding the above yhat[0],total number of elements\n",
    "        #print(temp_input)\n",
    "        lst_output.extend(yhat.tolist()) #Adding 101 day forcast to output forecasting list \n",
    "        i = i+1\n",
    "    else: #first loop will go inside this\n",
    "        x_input = x_input.reshape((1,n_steps,1)) #Last 100 days data \n",
    "        yhat= model.predict(x_input,verbose = 0) #Taking prediction from model\n",
    "        print(yhat[0])\n",
    "        temp_input.extend(yhat[0].tolist()) #Adding predicted value of 101 day in temp_input \n",
    "        print(len(temp_input))\n",
    "        lst_output.extend(yhat.tolist()) #Adding 101 day forecast to output forecasting list\n",
    "        i =i+1\n",
    "print(lst_output)"
   ]
  },
  {
   "cell_type": "code",
   "execution_count": 77,
   "id": "62b35c72",
   "metadata": {},
   "outputs": [
    {
     "data": {
      "text/plain": [
       "[[0.6021367907524109],\n",
       " [0.5966067314147949],\n",
       " [0.5911344289779663],\n",
       " [0.5857192277908325],\n",
       " [0.580361008644104],\n",
       " [0.5750588178634644],\n",
       " [0.5698127746582031],\n",
       " [0.5646225810050964],\n",
       " [0.5594881772994995],\n",
       " [0.5544096827507019],\n",
       " [0.5493869781494141],\n",
       " [0.5444200038909912],\n",
       " [0.5395084619522095],\n",
       " [0.5346527099609375],\n",
       " [0.5298522114753723],\n",
       " [0.5251069068908691],\n",
       " [0.5204165577888489],\n",
       " [0.5157809853553772],\n",
       " [0.5111995935440063],\n",
       " [0.5066721439361572],\n",
       " [0.502198338508606],\n",
       " [0.49777746200561523],\n",
       " [0.4934091567993164],\n",
       " [0.4890928566455841],\n",
       " [0.48482826352119446],\n",
       " [0.4806143045425415],\n",
       " [0.4764506220817566],\n",
       " [0.47233667969703674],\n",
       " [0.46827173233032227],\n",
       " [0.464255154132843]]"
      ]
     },
     "execution_count": 77,
     "metadata": {},
     "output_type": "execute_result"
    }
   ],
   "source": [
    "lst_output"
   ]
  },
  {
   "cell_type": "code",
   "execution_count": 78,
   "id": "d8818e22",
   "metadata": {},
   "outputs": [],
   "source": [
    "forecast = scaler.inverse_transform(lst_output)"
   ]
  },
  {
   "cell_type": "code",
   "execution_count": 79,
   "id": "160e5b88",
   "metadata": {},
   "outputs": [
    {
     "data": {
      "text/plain": [
       "(30, 1)"
      ]
     },
     "execution_count": 79,
     "metadata": {},
     "output_type": "execute_result"
    }
   ],
   "source": [
    "forecast.shape"
   ]
  },
  {
   "cell_type": "code",
   "execution_count": 80,
   "id": "ae87e8cf",
   "metadata": {},
   "outputs": [],
   "source": [
    "forecast = forecast.reshape(30,)"
   ]
  },
  {
   "cell_type": "code",
   "execution_count": 81,
   "id": "f9708428",
   "metadata": {},
   "outputs": [
    {
     "data": {
      "text/html": [
       "<div>\n",
       "<style scoped>\n",
       "    .dataframe tbody tr th:only-of-type {\n",
       "        vertical-align: middle;\n",
       "    }\n",
       "\n",
       "    .dataframe tbody tr th {\n",
       "        vertical-align: top;\n",
       "    }\n",
       "\n",
       "    .dataframe thead th {\n",
       "        text-align: right;\n",
       "    }\n",
       "</style>\n",
       "<table border=\"1\" class=\"dataframe\">\n",
       "  <thead>\n",
       "    <tr style=\"text-align: right;\">\n",
       "      <th></th>\n",
       "      <th>Value</th>\n",
       "      <th>Predicted Price</th>\n",
       "    </tr>\n",
       "    <tr>\n",
       "      <th>Date</th>\n",
       "      <th></th>\n",
       "      <th></th>\n",
       "    </tr>\n",
       "  </thead>\n",
       "  <tbody>\n",
       "    <tr>\n",
       "      <th>1987-10-08</th>\n",
       "      <td>18.63</td>\n",
       "      <td>18.483572</td>\n",
       "    </tr>\n",
       "    <tr>\n",
       "      <th>1987-10-09</th>\n",
       "      <td>18.60</td>\n",
       "      <td>18.491814</td>\n",
       "    </tr>\n",
       "    <tr>\n",
       "      <th>1987-10-12</th>\n",
       "      <td>18.55</td>\n",
       "      <td>18.496473</td>\n",
       "    </tr>\n",
       "    <tr>\n",
       "      <th>1987-10-13</th>\n",
       "      <td>18.55</td>\n",
       "      <td>18.496679</td>\n",
       "    </tr>\n",
       "    <tr>\n",
       "      <th>1987-10-14</th>\n",
       "      <td>18.68</td>\n",
       "      <td>18.492405</td>\n",
       "    </tr>\n",
       "    <tr>\n",
       "      <th>...</th>\n",
       "      <td>...</td>\n",
       "      <td>...</td>\n",
       "    </tr>\n",
       "    <tr>\n",
       "      <th>2023-01-04</th>\n",
       "      <td>75.31</td>\n",
       "      <td>81.562454</td>\n",
       "    </tr>\n",
       "    <tr>\n",
       "      <th>2023-01-05</th>\n",
       "      <td>76.73</td>\n",
       "      <td>80.926247</td>\n",
       "    </tr>\n",
       "    <tr>\n",
       "      <th>2023-01-06</th>\n",
       "      <td>76.41</td>\n",
       "      <td>79.896332</td>\n",
       "    </tr>\n",
       "    <tr>\n",
       "      <th>2023-01-09</th>\n",
       "      <td>77.50</td>\n",
       "      <td>78.662697</td>\n",
       "    </tr>\n",
       "    <tr>\n",
       "      <th>2023-01-10</th>\n",
       "      <td>78.40</td>\n",
       "      <td>77.514610</td>\n",
       "    </tr>\n",
       "  </tbody>\n",
       "</table>\n",
       "<p>8961 rows × 2 columns</p>\n",
       "</div>"
      ],
      "text/plain": [
       "            Value  Predicted Price\n",
       "Date                              \n",
       "1987-10-08  18.63        18.483572\n",
       "1987-10-09  18.60        18.491814\n",
       "1987-10-12  18.55        18.496473\n",
       "1987-10-13  18.55        18.496679\n",
       "1987-10-14  18.68        18.492405\n",
       "...           ...              ...\n",
       "2023-01-04  75.31        81.562454\n",
       "2023-01-05  76.73        80.926247\n",
       "2023-01-06  76.41        79.896332\n",
       "2023-01-09  77.50        78.662697\n",
       "2023-01-10  78.40        77.514610\n",
       "\n",
       "[8961 rows x 2 columns]"
      ]
     },
     "execution_count": 81,
     "metadata": {},
     "output_type": "execute_result"
    }
   ],
   "source": [
    "cd"
   ]
  },
  {
   "cell_type": "markdown",
   "id": "c15022f6",
   "metadata": {},
   "source": [
    "\n",
    "Making the some synthetic data dates for next 30 days byusing `PD.data_range`\n"
   ]
  },
  {
   "cell_type": "code",
   "execution_count": 82,
   "id": "ef1f6b7c",
   "metadata": {},
   "outputs": [],
   "source": [
    "t_fut = pd.date_range('2023-01-10 00:00:00+00:00', periods=30)"
   ]
  },
  {
   "cell_type": "code",
   "execution_count": 83,
   "id": "727e81e3",
   "metadata": {},
   "outputs": [
    {
     "data": {
      "text/plain": [
       "DatetimeIndex(['2023-01-10 00:00:00+00:00', '2023-01-11 00:00:00+00:00',\n",
       "               '2023-01-12 00:00:00+00:00', '2023-01-13 00:00:00+00:00',\n",
       "               '2023-01-14 00:00:00+00:00', '2023-01-15 00:00:00+00:00',\n",
       "               '2023-01-16 00:00:00+00:00', '2023-01-17 00:00:00+00:00',\n",
       "               '2023-01-18 00:00:00+00:00', '2023-01-19 00:00:00+00:00',\n",
       "               '2023-01-20 00:00:00+00:00', '2023-01-21 00:00:00+00:00',\n",
       "               '2023-01-22 00:00:00+00:00', '2023-01-23 00:00:00+00:00',\n",
       "               '2023-01-24 00:00:00+00:00', '2023-01-25 00:00:00+00:00',\n",
       "               '2023-01-26 00:00:00+00:00', '2023-01-27 00:00:00+00:00',\n",
       "               '2023-01-28 00:00:00+00:00', '2023-01-29 00:00:00+00:00',\n",
       "               '2023-01-30 00:00:00+00:00', '2023-01-31 00:00:00+00:00',\n",
       "               '2023-02-01 00:00:00+00:00', '2023-02-02 00:00:00+00:00',\n",
       "               '2023-02-03 00:00:00+00:00', '2023-02-04 00:00:00+00:00',\n",
       "               '2023-02-05 00:00:00+00:00', '2023-02-06 00:00:00+00:00',\n",
       "               '2023-02-07 00:00:00+00:00', '2023-02-08 00:00:00+00:00'],\n",
       "              dtype='datetime64[ns, UTC]', freq='D')"
      ]
     },
     "execution_count": 83,
     "metadata": {},
     "output_type": "execute_result"
    }
   ],
   "source": [
    "t_fut"
   ]
  },
  {
   "cell_type": "markdown",
   "id": "ace925b2",
   "metadata": {},
   "source": [
    "### Making the data frame of this particular forecasted values in `CD4`"
   ]
  },
  {
   "cell_type": "code",
   "execution_count": 84,
   "id": "af7f67bb",
   "metadata": {},
   "outputs": [],
   "source": [
    "cd4 = pd.DataFrame({'Forecast Price':forecast},index = t_fut)"
   ]
  },
  {
   "cell_type": "code",
   "execution_count": 85,
   "id": "f5fd9c7d",
   "metadata": {},
   "outputs": [
    {
     "data": {
      "text/html": [
       "<div>\n",
       "<style scoped>\n",
       "    .dataframe tbody tr th:only-of-type {\n",
       "        vertical-align: middle;\n",
       "    }\n",
       "\n",
       "    .dataframe tbody tr th {\n",
       "        vertical-align: top;\n",
       "    }\n",
       "\n",
       "    .dataframe thead th {\n",
       "        text-align: right;\n",
       "    }\n",
       "</style>\n",
       "<table border=\"1\" class=\"dataframe\">\n",
       "  <thead>\n",
       "    <tr style=\"text-align: right;\">\n",
       "      <th></th>\n",
       "      <th>Forecast Price</th>\n",
       "    </tr>\n",
       "  </thead>\n",
       "  <tbody>\n",
       "    <tr>\n",
       "      <th>2023-01-10 00:00:00+00:00</th>\n",
       "      <td>68.370103</td>\n",
       "    </tr>\n",
       "    <tr>\n",
       "      <th>2023-01-11 00:00:00+00:00</th>\n",
       "      <td>68.188359</td>\n",
       "    </tr>\n",
       "    <tr>\n",
       "      <th>2023-01-12 00:00:00+00:00</th>\n",
       "      <td>68.008513</td>\n",
       "    </tr>\n",
       "    <tr>\n",
       "      <th>2023-01-13 00:00:00+00:00</th>\n",
       "      <td>67.830544</td>\n",
       "    </tr>\n",
       "    <tr>\n",
       "      <th>2023-01-14 00:00:00+00:00</th>\n",
       "      <td>67.654448</td>\n",
       "    </tr>\n",
       "    <tr>\n",
       "      <th>2023-01-15 00:00:00+00:00</th>\n",
       "      <td>67.480192</td>\n",
       "    </tr>\n",
       "    <tr>\n",
       "      <th>2023-01-16 00:00:00+00:00</th>\n",
       "      <td>67.307782</td>\n",
       "    </tr>\n",
       "    <tr>\n",
       "      <th>2023-01-17 00:00:00+00:00</th>\n",
       "      <td>67.137208</td>\n",
       "    </tr>\n",
       "    <tr>\n",
       "      <th>2023-01-18 00:00:00+00:00</th>\n",
       "      <td>66.968467</td>\n",
       "    </tr>\n",
       "    <tr>\n",
       "      <th>2023-01-19 00:00:00+00:00</th>\n",
       "      <td>66.801563</td>\n",
       "    </tr>\n",
       "    <tr>\n",
       "      <th>2023-01-20 00:00:00+00:00</th>\n",
       "      <td>66.636493</td>\n",
       "    </tr>\n",
       "    <tr>\n",
       "      <th>2023-01-21 00:00:00+00:00</th>\n",
       "      <td>66.473255</td>\n",
       "    </tr>\n",
       "    <tr>\n",
       "      <th>2023-01-22 00:00:00+00:00</th>\n",
       "      <td>66.311838</td>\n",
       "    </tr>\n",
       "    <tr>\n",
       "      <th>2023-01-23 00:00:00+00:00</th>\n",
       "      <td>66.152255</td>\n",
       "    </tr>\n",
       "    <tr>\n",
       "      <th>2023-01-24 00:00:00+00:00</th>\n",
       "      <td>65.994488</td>\n",
       "    </tr>\n",
       "    <tr>\n",
       "      <th>2023-01-25 00:00:00+00:00</th>\n",
       "      <td>65.838535</td>\n",
       "    </tr>\n",
       "    <tr>\n",
       "      <th>2023-01-26 00:00:00+00:00</th>\n",
       "      <td>65.684388</td>\n",
       "    </tr>\n",
       "    <tr>\n",
       "      <th>2023-01-27 00:00:00+00:00</th>\n",
       "      <td>65.532041</td>\n",
       "    </tr>\n",
       "    <tr>\n",
       "      <th>2023-01-28 00:00:00+00:00</th>\n",
       "      <td>65.381474</td>\n",
       "    </tr>\n",
       "    <tr>\n",
       "      <th>2023-01-29 00:00:00+00:00</th>\n",
       "      <td>65.232681</td>\n",
       "    </tr>\n",
       "    <tr>\n",
       "      <th>2023-01-30 00:00:00+00:00</th>\n",
       "      <td>65.085650</td>\n",
       "    </tr>\n",
       "    <tr>\n",
       "      <th>2023-01-31 00:00:00+00:00</th>\n",
       "      <td>64.940359</td>\n",
       "    </tr>\n",
       "    <tr>\n",
       "      <th>2023-02-01 00:00:00+00:00</th>\n",
       "      <td>64.796796</td>\n",
       "    </tr>\n",
       "    <tr>\n",
       "      <th>2023-02-02 00:00:00+00:00</th>\n",
       "      <td>64.654942</td>\n",
       "    </tr>\n",
       "    <tr>\n",
       "      <th>2023-02-03 00:00:00+00:00</th>\n",
       "      <td>64.514787</td>\n",
       "    </tr>\n",
       "    <tr>\n",
       "      <th>2023-02-04 00:00:00+00:00</th>\n",
       "      <td>64.376296</td>\n",
       "    </tr>\n",
       "    <tr>\n",
       "      <th>2023-02-05 00:00:00+00:00</th>\n",
       "      <td>64.239458</td>\n",
       "    </tr>\n",
       "    <tr>\n",
       "      <th>2023-02-06 00:00:00+00:00</th>\n",
       "      <td>64.104254</td>\n",
       "    </tr>\n",
       "    <tr>\n",
       "      <th>2023-02-07 00:00:00+00:00</th>\n",
       "      <td>63.970661</td>\n",
       "    </tr>\n",
       "    <tr>\n",
       "      <th>2023-02-08 00:00:00+00:00</th>\n",
       "      <td>63.838657</td>\n",
       "    </tr>\n",
       "  </tbody>\n",
       "</table>\n",
       "</div>"
      ],
      "text/plain": [
       "                           Forecast Price\n",
       "2023-01-10 00:00:00+00:00       68.370103\n",
       "2023-01-11 00:00:00+00:00       68.188359\n",
       "2023-01-12 00:00:00+00:00       68.008513\n",
       "2023-01-13 00:00:00+00:00       67.830544\n",
       "2023-01-14 00:00:00+00:00       67.654448\n",
       "2023-01-15 00:00:00+00:00       67.480192\n",
       "2023-01-16 00:00:00+00:00       67.307782\n",
       "2023-01-17 00:00:00+00:00       67.137208\n",
       "2023-01-18 00:00:00+00:00       66.968467\n",
       "2023-01-19 00:00:00+00:00       66.801563\n",
       "2023-01-20 00:00:00+00:00       66.636493\n",
       "2023-01-21 00:00:00+00:00       66.473255\n",
       "2023-01-22 00:00:00+00:00       66.311838\n",
       "2023-01-23 00:00:00+00:00       66.152255\n",
       "2023-01-24 00:00:00+00:00       65.994488\n",
       "2023-01-25 00:00:00+00:00       65.838535\n",
       "2023-01-26 00:00:00+00:00       65.684388\n",
       "2023-01-27 00:00:00+00:00       65.532041\n",
       "2023-01-28 00:00:00+00:00       65.381474\n",
       "2023-01-29 00:00:00+00:00       65.232681\n",
       "2023-01-30 00:00:00+00:00       65.085650\n",
       "2023-01-31 00:00:00+00:00       64.940359\n",
       "2023-02-01 00:00:00+00:00       64.796796\n",
       "2023-02-02 00:00:00+00:00       64.654942\n",
       "2023-02-03 00:00:00+00:00       64.514787\n",
       "2023-02-04 00:00:00+00:00       64.376296\n",
       "2023-02-05 00:00:00+00:00       64.239458\n",
       "2023-02-06 00:00:00+00:00       64.104254\n",
       "2023-02-07 00:00:00+00:00       63.970661\n",
       "2023-02-08 00:00:00+00:00       63.838657"
      ]
     },
     "execution_count": 85,
     "metadata": {},
     "output_type": "execute_result"
    }
   ],
   "source": [
    "cd4"
   ]
  },
  {
   "cell_type": "markdown",
   "id": "b699d291",
   "metadata": {},
   "source": [
    "### Ploting all the the things together \n",
    "In this ploting I showing the data from Jan 2022 to current date+30 future prediction"
   ]
  },
  {
   "cell_type": "markdown",
   "id": "b845108a",
   "metadata": {},
   "source": [
    "### Green row showing the my testing data and black is showing my forecasted 30 days data and you can see it is geting some of the trends from previous values "
   ]
  },
  {
   "cell_type": "code",
   "execution_count": 91,
   "id": "9a362a41",
   "metadata": {},
   "outputs": [
    {
     "data": {
      "text/plain": [
       "<matplotlib.legend.Legend at 0x18939630dc0>"
      ]
     },
     "execution_count": 91,
     "metadata": {},
     "output_type": "execute_result"
    },
    {
     "data": {
      "image/png": "[encoded data removed]",
      "text/plain": [
       "<Figure size 1600x700 with 1 Axes>"
      ]
     },
     "metadata": {},
     "output_type": "display_data"
    }
   ],
   "source": [
    "plt.figure(figsize = (16,7))\n",
    "plt.grid(True)\n",
    "plt.title('Crude oil Price Forecasting Training and Validation')\n",
    "# plt.plot(df.index,df['Value'],label = \"Original Value\", c = 'blue')\n",
    "# plt.plot(df[:train_predict.shape[0]+w].index,df['Predicted Price'][:train_predict.shape[0]+w],label = \"Predicting Training Price\", c='red')\n",
    "plt.plot(df.index[train_predict.shape[0]+100:],df['Predicted Price'][train_predict.shape[0]+w:],label = \"Predicting Validating Price\",c ='green')\n",
    "\n",
    "plt.plot(cd4.index,cd4['Forecast Price'],label = 'Forecasted Price',c ='black')\n",
    "\n",
    "plt.axvline(df.index[train_predict.shape[0]+w], color='black',lw=3)\n",
    "plt.axvline(cd4.index[0],color='black', lw=2)\n",
    "\n",
    "plt.legend()"
   ]
  },
  {
   "cell_type": "markdown",
   "id": "a5846301",
   "metadata": {},
   "source": [
    "In this ploting I showing the data from 20 May 1987 to current date+30 for future prediction"
   ]
  },
  {
   "cell_type": "code",
   "execution_count": 92,
   "id": "190ca9ed",
   "metadata": {},
   "outputs": [
    {
     "data": {
      "text/plain": [
       "<matplotlib.legend.Legend at 0x1893a05a560>"
      ]
     },
     "execution_count": 92,
     "metadata": {},
     "output_type": "execute_result"
    },
    {
     "data": {
      "image/png": "[encoded data removed]",
      "text/plain": [
       "<Figure size 1600x700 with 1 Axes>"
      ]
     },
     "metadata": {},
     "output_type": "display_data"
    }
   ],
   "source": [
    "plt.figure(figsize = (16,7))\n",
    "plt.grid(True)\n",
    "plt.title('Crude oil Price Forecasting Training and Validation')\n",
    "plt.plot(df.index,df['Value'],label = \"Original Value\", c = 'blue')\n",
    "plt.plot(df[:train_predict.shape[0]+w].index,df['Predicted Price'][:train_predict.shape[0]+w],label = \"Predicting Training Price\", c='red')\n",
    "plt.plot(df.index[train_predict.shape[0]+100:],df['Predicted Price'][train_predict.shape[0]+w:],label = \"Predicting Validating Price\",c ='green')\n",
    "\n",
    "plt.plot(cd4.index,cd4['Forecast Price'],label = 'Forecasted Price',c ='black')\n",
    "\n",
    "plt.axvline(df.index[train_predict.shape[0]+w], color='black',lw=3)\n",
    "plt.axvline(cd4.index[0],color='black', lw=2)\n",
    "\n",
    "plt.legend()"
   ]
  },
  {
   "cell_type": "markdown",
   "id": "04e7bd06",
   "metadata": {},
   "source": [
    "## Drabacks of LSTM univarite  forcating\n",
    "- Crude oil price forecasting is not only depend on historical data it also fluctuates with the geopolitics and more factors like, `War`,`Natural Disasters`, and  `accidents` etc.\n",
    " \n",
    "- In this model I haven't take care of those geopolitics things in these particular model.\n",
    "\n",
    "- We haven't take care of geopolitics fluctuates because of that it's not proper correct\n"
   ]
  },
  {
   "cell_type": "code",
   "execution_count": null,
   "id": "2346be35",
   "metadata": {},
   "outputs": [],
   "source": []
  },
  {
   "cell_type": "code",
   "execution_count": null,
   "id": "8e0aa8b2",
   "metadata": {},
   "outputs": [],
   "source": []
  },
  {
   "cell_type": "code",
   "execution_count": null,
   "id": "04ac5871",
   "metadata": {},
   "outputs": [],
   "source": []
  },
  {
   "cell_type": "code",
   "execution_count": null,
   "id": "c3ff0ba2",
   "metadata": {},
   "outputs": [],
   "source": []
  },
  {
   "cell_type": "code",
   "execution_count": null,
   "id": "afcfc86c",
   "metadata": {},
   "outputs": [],
   "source": []
  },
  {
   "cell_type": "code",
   "execution_count": null,
   "id": "6a17f81c",
   "metadata": {},
   "outputs": [],
   "source": []
  },
  {
   "cell_type": "code",
   "execution_count": null,
   "id": "9128a2e0",
   "metadata": {},
   "outputs": [],
   "source": []
  },
  {
   "cell_type": "code",
   "execution_count": null,
   "id": "3b294e67",
   "metadata": {},
   "outputs": [],
   "source": []
  }
 ],
 "metadata": {
  "kernelspec": {
   "display_name": "Python 3 (ipykernel)",
   "language": "python",
   "name": "python3"
  },
  "language_info": {
   "codemirror_mode": {
    "name": "ipython",
    "version": 3
   },
   "file_extension": ".py",
   "mimetype": "text/x-python",
   "name": "python",
   "nbconvert_exporter": "python",
   "pygments_lexer": "ipython3",
   "version": "3.10.9"
  }
 },
 "nbformat": 4,
 "nbformat_minor": 5
}
